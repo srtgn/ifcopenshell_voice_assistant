{
 "cells": [
  {
   "cell_type": "markdown",
   "metadata": {
    "kernel": "SoS"
   },
   "source": [
    "# IFC OpenShell Voice Assistant - Prototype #5\n"
   ]
  },
  {
   "cell_type": "markdown",
   "metadata": {
    "kernel": "SoS"
   },
   "source": [
    "#### Example code from\n",
    "https://academy.ifcopenshell.org/posts/creating-a-simple-wall-with-property-set-and-quantity-information/\n",
    "\n",
    "This code creates an ifc template file, a wall element, and an openning in it"
   ]
  },
  {
   "cell_type": "code",
   "execution_count": 1,
   "metadata": {
    "kernel": "va"
   },
   "outputs": [],
   "source": [
    "import uuid\n",
    "import time\n",
    "import tempfile\n",
    "import ifcopenshell"
   ]
  },
  {
   "cell_type": "code",
   "execution_count": 2,
   "metadata": {
    "kernel": "va"
   },
   "outputs": [],
   "source": [
    "O = 0., 0., 0.\n",
    "X = 1., 0., 0.\n",
    "Y = 0., 1., 0.\n",
    "Z = 0., 0., 1."
   ]
  },
  {
   "cell_type": "code",
   "execution_count": 3,
   "metadata": {
    "kernel": "va"
   },
   "outputs": [],
   "source": [
    "# Helper function definitions\n",
    "\n",
    "# Creates an IfcAxis2Placement3D from Location, Axis and RefDirection specified as Python tuples\n",
    "def create_ifcaxis2placement(ifcfile, point=O, dir1=Z, dir2=X):\n",
    "    point = ifcfile.createIfcCartesianPoint(point)\n",
    "    dir1 = ifcfile.createIfcDirection(dir1)\n",
    "    dir2 = ifcfile.createIfcDirection(dir2)\n",
    "    axis2placement = ifcfile.createIfcAxis2Placement3D(point, dir1, dir2)\n",
    "    return axis2placement\n",
    "\n",
    "# Creates an IfcLocalPlacement from Location, Axis and RefDirection, specified as Python tuples, and relative placement\n",
    "def create_ifclocalplacement(ifcfile, point=O, dir1=Z, dir2=X, relative_to=None):\n",
    "    axis2placement = create_ifcaxis2placement(ifcfile,point,dir1,dir2)\n",
    "    ifclocalplacement2 = ifcfile.createIfcLocalPlacement(relative_to,axis2placement)\n",
    "    return ifclocalplacement2\n",
    "\n",
    "# Creates an IfcPolyLine from a list of points, specified as Python tuples\n",
    "def create_ifcpolyline(ifcfile, point_list):\n",
    "    ifcpts = []\n",
    "    for point in point_list:\n",
    "        point = ifcfile.createIfcCartesianPoint(point)\n",
    "        ifcpts.append(point)\n",
    "    polyline = ifcfile.createIfcPolyLine(ifcpts)\n",
    "    return polyline\n",
    "    \n",
    "# Creates an IfcExtrudedAreaSolid from a list of points, specified as Python tuples\n",
    "def create_ifcextrudedareasolid(ifcfile, point_list, ifcaxis2placement, extrude_dir, extrusion):\n",
    "    polyline = create_ifcpolyline(ifcfile, point_list)\n",
    "    ifcclosedprofile = ifcfile.createIfcArbitraryClosedProfileDef(\"AREA\", None, polyline)\n",
    "    ifcdir = ifcfile.createIfcDirection(extrude_dir)\n",
    "    ifcextrudedareasolid = ifcfile.createIfcExtrudedAreaSolid(ifcclosedprofile, ifcaxis2placement, ifcdir, extrusion)\n",
    "    return ifcextrudedareasolid\n",
    "    \n",
    "create_guid = lambda: ifcopenshell.guid.compress(uuid.uuid1().hex)\n"
   ]
  },
  {
   "cell_type": "code",
   "execution_count": 4,
   "metadata": {
    "kernel": "va"
   },
   "outputs": [],
   "source": [
    "# IFC template creation\n",
    "\n",
    "filename = \"hello_wall_P_5.ifc\"\n",
    "timestamp = time.time()\n",
    "timestring = time.strftime(\"%Y-%m-%dT%H:%M:%S\", time.gmtime(timestamp))\n",
    "creator = \"Kianwee Chen\"\n",
    "organization = \"RWTH\"\n",
    "application, application_version = \"IfcOpenShell\", \"0.5\"\n",
    "project_globalid, project_name = create_guid(), \"Hello Wall\"\n",
    "    \n",
    "# A template IFC file to quickly populate entity instances for an IfcProject with its dependencies\n",
    "template = \"\"\"ISO-10303-21;\n",
    "HEADER;\n",
    "FILE_DESCRIPTION(('ViewDefinition [CoordinationView]'),'2;1');\n",
    "FILE_NAME('%(filename)s','%(timestring)s',('%(creator)s'),('%(organization)s'),'%(application)s','%(application)s','');\n",
    "FILE_SCHEMA(('IFC2X3'));\n",
    "ENDSEC;\n",
    "DATA;\n",
    "#1=IFCPERSON($,$,'%(creator)s',$,$,$,$,$);\n",
    "#2=IFCORGANIZATION($,'%(organization)s',$,$,$);\n",
    "#3=IFCPERSONANDORGANIZATION(#1,#2,$);\n",
    "#4=IFCAPPLICATION(#2,'%(application_version)s','%(application)s','');\n",
    "#5=IFCOWNERHISTORY(#3,#4,$,.ADDED.,$,#3,#4,%(timestamp)s);\n",
    "#6=IFCDIRECTION((1.,0.,0.));\n",
    "#7=IFCDIRECTION((0.,0.,1.));\n",
    "#8=IFCCARTESIANPOINT((0.,0.,0.));\n",
    "#9=IFCAXIS2PLACEMENT3D(#8,#7,#6);\n",
    "#10=IFCDIRECTION((0.,1.,0.));\n",
    "#11=IFCGEOMETRICREPRESENTATIONCONTEXT($,'Model',3,1.E-05,#9,#10);\n",
    "#12=IFCDIMENSIONALEXPONENTS(0,0,0,0,0,0,0);\n",
    "#13=IFCSIUNIT(*,.LENGTHUNIT.,$,.METRE.);\n",
    "#14=IFCSIUNIT(*,.AREAUNIT.,$,.SQUARE_METRE.);\n",
    "#15=IFCSIUNIT(*,.VOLUMEUNIT.,$,.CUBIC_METRE.);\n",
    "#16=IFCSIUNIT(*,.PLANEANGLEUNIT.,$,.RADIAN.);\n",
    "#17=IFCMEASUREWITHUNIT(IFCPLANEANGLEMEASURE(0.017453292519943295),#16);\n",
    "#18=IFCCONVERSIONBASEDUNIT(#12,.PLANEANGLEUNIT.,'DEGREE',#17);\n",
    "#19=IFCUNITASSIGNMENT((#13,#14,#15,#18));\n",
    "#20=IFCPROJECT('%(project_globalid)s',#5,'%(project_name)s',$,$,$,$,(#11),#19);\n",
    "ENDSEC;\n",
    "END-ISO-10303-21;\n",
    "\"\"\" % locals()\n",
    "\n",
    "# Write the template to a temporary file \n",
    "temp_handle, temp_filename = tempfile.mkstemp(suffix=\".ifc\")\n",
    "with open(temp_filename, \"w+\") as f:\n",
    "    f.write(template)\n",
    " \n",
    "# Obtain references to instances defined in template\n",
    "ifcfile = ifcopenshell.open(temp_filename)\n",
    "owner_history = ifcfile.by_type(\"IfcOwnerHistory\")[0]\n",
    "project = ifcfile.by_type(\"IfcProject\")[0]\n",
    "context = ifcfile.by_type(\"IfcGeometricRepresentationContext\")[0]\n"
   ]
  },
  {
   "cell_type": "code",
   "execution_count": 5,
   "metadata": {
    "kernel": "va"
   },
   "outputs": [],
   "source": [
    "# IFC hierarchy creation\n",
    "site_placement = create_ifclocalplacement(ifcfile)\n",
    "site = ifcfile.createIfcSite(create_guid(), owner_history, \"Site\", None, None, site_placement, None, None, \"ELEMENT\", None, None, None, None, None)\n",
    "\n",
    "building_placement = create_ifclocalplacement(ifcfile, relative_to=site_placement)\n",
    "building = ifcfile.createIfcBuilding(create_guid(), owner_history, 'Building', None, None, building_placement, None, None, \"ELEMENT\", None, None, None)\n",
    "\n",
    "storey_placement = create_ifclocalplacement(ifcfile, relative_to=building_placement)\n",
    "elevation = 0.0\n",
    "building_storey = ifcfile.createIfcBuildingStorey(create_guid(), owner_history, 'Storey', None, None, storey_placement, None, None, \"ELEMENT\", elevation)\n",
    "\n",
    "container_storey = ifcfile.createIfcRelAggregates(create_guid(), owner_history, \"Building Container\", None, building, [building_storey])\n",
    "container_site = ifcfile.createIfcRelAggregates(create_guid(), owner_history, \"Site Container\", None, site, [building])\n",
    "container_project = ifcfile.createIfcRelAggregates(create_guid(), owner_history, \"Project Container\", None, project, [site])\n"
   ]
  },
  {
   "cell_type": "code",
   "execution_count": 6,
   "metadata": {
    "kernel": "va"
   },
   "outputs": [
    {
     "data": {
      "text/plain": [
       "#82=IfcRelDefinesByProperties('3TfrEpUMGHxB03mBY3dDM_',#5,$,$,(#66),#81)"
      ]
     },
     "execution_count": 6,
     "metadata": {},
     "output_type": "execute_result"
    }
   ],
   "source": [
    "# Wall creation: Define the wall shape as a polyline axis and an extruded area solid\n",
    "wall_placement = create_ifclocalplacement(ifcfile, relative_to=storey_placement)\n",
    "polyline = create_ifcpolyline(ifcfile, [(0.0, 0.0, 0.0), (5.0, 0.0, 0.0)])\n",
    "axis_representation = ifcfile.createIfcShapeRepresentation(context, \"Axis\", \"Curve2D\", [polyline])\n",
    "\n",
    "extrusion_placement = create_ifcaxis2placement(ifcfile, (0.0, 0.0, 0.0), (0.0, 0.0, 1.0), (1.0, 0.0, 0.0))\n",
    "point_list_extrusion_area = [(0.0, -0.1, 0.0), (5.0, -0.1, 0.0), (5.0, 0.1, 0.0), (0.0, 0.1, 0.0), (0.0, -0.1, 0.0)]\n",
    "solid = create_ifcextrudedareasolid(ifcfile, point_list_extrusion_area, extrusion_placement, (0.0, 0.0, 1.0), 3.0)\n",
    "body_representation = ifcfile.createIfcShapeRepresentation(context, \"Body\", \"SweptSolid\", [solid])\n",
    "\n",
    "product_shape = ifcfile.createIfcProductDefinitionShape(None, None, [axis_representation, body_representation])\n",
    "\n",
    "wall = ifcfile.createIfcWallStandardCase(create_guid(), owner_history, \"Wall\", \"An awesome wall\", None, wall_placement, product_shape, None)\n",
    "\n",
    "# Define and associate the wall material\n",
    "material = ifcfile.createIfcMaterial(\"wall material\")\n",
    "material_layer = ifcfile.createIfcMaterialLayer(material, 0.2, None)\n",
    "material_layer_set = ifcfile.createIfcMaterialLayerSet([material_layer], None)\n",
    "material_layer_set_usage = ifcfile.createIfcMaterialLayerSetUsage(material_layer_set, \"AXIS2\", \"POSITIVE\", -0.1)\n",
    "ifcfile.createIfcRelAssociatesMaterial(create_guid(), owner_history, RelatedObjects=[wall], RelatingMaterial=material_layer_set_usage)\n",
    "\n",
    "# Create and assign property set\n",
    "property_values = [\n",
    "    ifcfile.createIfcPropertySingleValue(\"Reference\", \"Reference\", ifcfile.create_entity(\"IfcText\", \"Describe the Reference\"), None),\n",
    "    ifcfile.createIfcPropertySingleValue(\"IsExternal\", \"IsExternal\", ifcfile.create_entity(\"IfcBoolean\", True), None),\n",
    "    ifcfile.createIfcPropertySingleValue(\"ThermalTransmittance\", \"ThermalTransmittance\", ifcfile.create_entity(\"IfcReal\", 2.569), None),\n",
    "    ifcfile.createIfcPropertySingleValue(\"IntValue\", \"IntValue\", ifcfile.create_entity(\"IfcInteger\", 2), None)\n",
    "]\n",
    "property_set = ifcfile.createIfcPropertySet(create_guid(), owner_history, \"Pset_WallCommon\", None, property_values)\n",
    "ifcfile.createIfcRelDefinesByProperties(create_guid(), owner_history, None, None, [wall], property_set)\n",
    "\n",
    "# Add quantity information\n",
    "quantity_values = [\n",
    "    ifcfile.createIfcQuantityLength(\"Length\", \"Length of the wall\", None, 5.0),\n",
    "    ifcfile.createIfcQuantityArea(\"Area\", \"Area of the front face\", None, 5.0 * solid.Depth),\n",
    "    ifcfile.createIfcQuantityVolume(\"Volume\", \"Volume of the wall\", None, 5.0 * solid.Depth * material_layer.LayerThickness)\n",
    "]\n",
    "element_quantity = ifcfile.createIfcElementQuantity(create_guid(), owner_history, \"BaseQuantities\", None, None, quantity_values)\n",
    "ifcfile.createIfcRelDefinesByProperties(create_guid(), owner_history, None, None, [wall], element_quantity)\n"
   ]
  },
  {
   "cell_type": "code",
   "execution_count": 7,
   "metadata": {
    "kernel": "SoS"
   },
   "outputs": [],
   "source": [
    "# Create and associate an opening for the window in the wall\n",
    "opening_placement = create_ifclocalplacement(ifcfile, (0.5, 0.0, 1.0), (0.0, 0.0, 1.0), (1.0, 0.0, 0.0), wall_placement)\n",
    "opening_extrusion_placement = create_ifcaxis2placement(ifcfile, (0.0, 0.0, 0.0), (0.0, 0.0, 1.0), (1.0, 0.0, 0.0))\n",
    "point_list_opening_extrusion_area = [(0.0, -0.1, 0.0), (3.0, -0.1, 0.0), (3.0, 0.1, 0.0), (0.0, 0.1, 0.0), (0.0, -0.1, 0.0)]\n",
    "opening_solid = create_ifcextrudedareasolid(ifcfile, point_list_opening_extrusion_area, opening_extrusion_placement, (0.0, 0.0, 1.0), 1.0)\n",
    "opening_representation = ifcfile.createIfcShapeRepresentation(context, \"Body\", \"SweptSolid\", [opening_solid])\n",
    "opening_shape = ifcfile.createIfcProductDefinitionShape(None, None, [opening_representation])\n",
    "opening_element = ifcfile.createIfcOpeningElement(create_guid(), owner_history,\"Opening\", \"An awesome opening\", None, opening_placement, opening_shape, None)\n",
    "ifcfile.createIfcRelVoidsElement(create_guid(), owner_history, None, None, wall, opening_element)\n",
    "\n",
    "# Create a simplified representation for the Window\n",
    "window_placement = create_ifclocalplacement(ifcfile, (0.0, 0.0, 0.0), (0.0, 0.0, 1.0), (1.0, 0.0, 0.0), opening_placement)\n",
    "window_extrusion_placement = create_ifcaxis2placement(ifcfile, (0.0, 0.0, 0.0), (0.0, 0.0, 1.0), (1.0, 0.0, 0.0))\n",
    "point_list_window_extrusion_area = [(0.0, -0.01, 0.0), (3.0, -0.01, 0.0), (3.0, 0.01, 0.0), (0.0, 0.01, 0.0), (0.0, -0.01, 0.0)]\n",
    "window_solid = create_ifcextrudedareasolid(ifcfile, point_list_window_extrusion_area, window_extrusion_placement, (0.0, 0.0, 1.0), 1.0)\n",
    "window_representation = ifcfile.createIfcShapeRepresentation(context, \"Body\", \"SweptSolid\", [window_solid])\n",
    "window_shape = ifcfile.createIfcProductDefinitionShape(None, None, [window_representation])\n",
    "window = ifcfile.createIfcWindow(create_guid(), owner_history, \"Window\", \"An awesome window\", None, window_placement, window_shape, None, None)\n"
   ]
  },
  {
   "cell_type": "code",
   "execution_count": 8,
   "metadata": {
    "kernel": "SoS"
   },
   "outputs": [],
   "source": [
    "# Relate the window to the opening element\n",
    "ifcfile.createIfcRelFillsElement(create_guid(), owner_history, None, None, opening_element, window)\n",
    "\n",
    "# Relate the window and wall to the building storey\n",
    "ifcfile.createIfcRelContainedInSpatialStructure(create_guid(), owner_history, \"Building Storey Container\", None, [wall, window], building_storey)\n",
    "\n",
    "# Write the contents of the file to disk\n",
    "ifcfile.write(filename)\n",
    "# print(open(filename, 'r').read()) "
   ]
  },
  {
   "cell_type": "markdown",
   "metadata": {
    "kernel": "SoS"
   },
   "source": [
    "##### Voice assistant prototype #5"
   ]
  },
  {
   "cell_type": "code",
   "execution_count": 26,
   "metadata": {},
   "outputs": [
    {
     "ename": "SyntaxError",
     "evalue": "invalid syntax (<ipython-input-26-c803d718e3b3>, line 2)",
     "output_type": "error",
     "traceback": [
      "\u001b[1;36m  File \u001b[1;32m\"<ipython-input-26-c803d718e3b3>\"\u001b[1;36m, line \u001b[1;32m2\u001b[0m\n\u001b[1;33m    Javascript(var bimSurfer = new BimSurfer({domNode: \"viewerContainer\"}))\u001b[0m\n\u001b[1;37m                           ^\u001b[0m\n\u001b[1;31mSyntaxError\u001b[0m\u001b[1;31m:\u001b[0m invalid syntax\n"
     ]
    }
   ],
   "source": [
    "from IPython.core.display import Javascript\n",
    "Javascript(var bimSurfer = new BimSurfer({domNode: \"viewerContainer\"}))"
   ]
  },
  {
   "cell_type": "code",
   "execution_count": 5,
   "metadata": {},
   "outputs": [
    {
     "data": {
      "text/html": [
       "<iframe src=\"https://ifcjs.github.io/web-ifc-viewer/example/index\" width=\"500\" height=\"250\"></iframe>\n"
      ],
      "text/plain": [
       "<IPython.core.display.HTML object>"
      ]
     },
     "metadata": {},
     "output_type": "display_data"
    }
   ],
   "source": [
    "%%html\n",
    "<iframe src=\"https://ifcjs.github.io/web-ifc-viewer/example/index\" width=\"500\" height=\"250\"></iframe>"
   ]
  },
  {
   "cell_type": "code",
   "execution_count": 9,
   "metadata": {
    "kernel": "SoS"
   },
   "outputs": [],
   "source": [
    "# import this modules for ifcopenshell commands and voice recognition\n",
    "import ifcopenshell\n",
    "import numpy\n",
    "import apiai\n",
    "import speech_recognition as sr\n",
    "import re"
   ]
  },
  {
   "cell_type": "code",
   "execution_count": 10,
   "metadata": {
    "kernel": "SoS"
   },
   "outputs": [],
   "source": [
    "# Run and Google will start to listen to you, tell us what you want to do \n",
    "def get_voice():\n",
    "    raw_text = {}\n",
    "    r = sr.Recognizer()\n",
    "    mic = sr.Microphone()\n",
    "    with mic as source:\n",
    "        r.adjust_for_ambient_noise(source, duration=1)\n",
    "        r.pause_threshold = 0.8\n",
    "        r.dynamic_energy_threshold = True\n",
    "        audio = r.listen(source)\n",
    "        raw_text = r.recognize_google(audio)\n",
    "    return raw_text"
   ]
  },
  {
   "cell_type": "code",
   "execution_count": 20,
   "metadata": {
    "kernel": "SoS"
   },
   "outputs": [],
   "source": [
    "# Run and Google will start to listen you, tell us what you want to do \n",
    "def get_voice():\n",
    "    raw_text = {}\n",
    "    r = sr.Recognizer()\n",
    "    mic = sr.Microphone()\n",
    "    tts (f' How can I help you?')\n",
    "    # x = False\n",
    "    # while x == False:\n",
    "        # tts (f' Sorry, but I could not understand your command, can you repeat it?')\n",
    "        # try:\n",
    "        with mic as source:\n",
    "            r.adjust_for_ambient_noise(source, duration=1)\n",
    "            r.pause_threshold = 0.8\n",
    "            r.dynamic_energy_threshold = True\n",
    "            audio = r.listen(source)\n",
    "            raw_text = r.recognize_google(audio)\n",
    "            x = bool([x for x in raw_text if x in sensitive_keywords])\n",
    "\n",
    "\n",
    "        # except:\n",
    "        #     tts (f' Sorry, but I could not understand your command, can you repeat it?')\n",
    "        #     with mic as source:\n",
    "        #         r.adjust_for_ambient_noise(source, duration=1)\n",
    "        #         r.pause_threshold = 0.8\n",
    "        #         r.dynamic_energy_threshold = True\n",
    "        #         audio = r.listen(source)\n",
    "        #         raw_text = r.recognize_google(audio)\n",
    "        # elif x == False:\n",
    "        #     break\n",
    "\n",
    "        # else:\n",
    "        #     tts (f' Sorry, but I could not understand your command, can you repeat it?')\n",
    "        #     with mic as source:\n",
    "        #         r.adjust_for_ambient_noise(source, duration=1)\n",
    "        #         r.pause_threshold = 0.8\n",
    "        #         r.dynamic_energy_threshold = True\n",
    "        #         audio = r.listen(source)\n",
    "        #         raw_text = r.recognize_google(audio)\n",
    "        # elif x == False:\n",
    "        # break\n",
    "\n",
    "        # finally:\n",
    "        #         tts (f' Sorry, but I could not understand your command, can you repeat it?')\n",
    "        #         with mic as source:\n",
    "        #             r.adjust_for_ambient_noise(source, duration=1)\n",
    "        #             r.pause_threshold = 0.8\n",
    "        #             r.dynamic_energy_threshold = True\n",
    "        #             audio = r.listen(source)\n",
    "        #             raw_text = r.recognize_google(audio)\n",
    "        # if x == False:\n",
    "        #     break\n",
    "        \n",
    "    return raw_text"
   ]
  },
  {
   "cell_type": "code",
   "execution_count": 22,
   "metadata": {
    "kernel": "SoS"
   },
   "outputs": [
    {
     "ename": "UnknownValueError",
     "evalue": "",
     "output_type": "error",
     "traceback": [
      "\u001b[1;31m---------------------------------------------------------------------------\u001b[0m",
      "\u001b[1;31mUnknownValueError\u001b[0m                         Traceback (most recent call last)",
      "\u001b[1;32m<ipython-input-22-407b8caa40c8>\u001b[0m in \u001b[0;36m<module>\u001b[1;34m\u001b[0m\n\u001b[1;32m----> 1\u001b[1;33m \u001b[0mget_voice\u001b[0m\u001b[1;33m(\u001b[0m\u001b[1;33m)\u001b[0m\u001b[1;33m\u001b[0m\u001b[1;33m\u001b[0m\u001b[0m\n\u001b[0m",
      "\u001b[1;32m<ipython-input-20-d96b54d81495>\u001b[0m in \u001b[0;36mget_voice\u001b[1;34m()\u001b[0m\n\u001b[0;32m     14\u001b[0m             \u001b[0mr\u001b[0m\u001b[1;33m.\u001b[0m\u001b[0mdynamic_energy_threshold\u001b[0m \u001b[1;33m=\u001b[0m \u001b[1;32mTrue\u001b[0m\u001b[1;33m\u001b[0m\u001b[1;33m\u001b[0m\u001b[0m\n\u001b[0;32m     15\u001b[0m             \u001b[0maudio\u001b[0m \u001b[1;33m=\u001b[0m \u001b[0mr\u001b[0m\u001b[1;33m.\u001b[0m\u001b[0mlisten\u001b[0m\u001b[1;33m(\u001b[0m\u001b[0msource\u001b[0m\u001b[1;33m)\u001b[0m\u001b[1;33m\u001b[0m\u001b[1;33m\u001b[0m\u001b[0m\n\u001b[1;32m---> 16\u001b[1;33m             \u001b[0mraw_text\u001b[0m \u001b[1;33m=\u001b[0m \u001b[0mr\u001b[0m\u001b[1;33m.\u001b[0m\u001b[0mrecognize_google\u001b[0m\u001b[1;33m(\u001b[0m\u001b[0maudio\u001b[0m\u001b[1;33m)\u001b[0m\u001b[1;33m\u001b[0m\u001b[1;33m\u001b[0m\u001b[0m\n\u001b[0m\u001b[0;32m     17\u001b[0m             \u001b[0mx\u001b[0m \u001b[1;33m=\u001b[0m \u001b[0mbool\u001b[0m\u001b[1;33m(\u001b[0m\u001b[1;33m[\u001b[0m\u001b[0mx\u001b[0m \u001b[1;32mfor\u001b[0m \u001b[0mx\u001b[0m \u001b[1;32min\u001b[0m \u001b[0mraw_text\u001b[0m \u001b[1;32mif\u001b[0m \u001b[0mx\u001b[0m \u001b[1;32min\u001b[0m \u001b[0msensitive_keywords\u001b[0m\u001b[1;33m]\u001b[0m\u001b[1;33m)\u001b[0m\u001b[1;33m\u001b[0m\u001b[1;33m\u001b[0m\u001b[0m\n\u001b[0;32m     18\u001b[0m \u001b[1;33m\u001b[0m\u001b[0m\n",
      "\u001b[1;32m~\\miniconda3\\envs\\va\\lib\\site-packages\\speech_recognition\\__init__.py\u001b[0m in \u001b[0;36mrecognize_google\u001b[1;34m(self, audio_data, key, language, show_all)\u001b[0m\n\u001b[0;32m    856\u001b[0m         \u001b[1;31m# return results\u001b[0m\u001b[1;33m\u001b[0m\u001b[1;33m\u001b[0m\u001b[1;33m\u001b[0m\u001b[0m\n\u001b[0;32m    857\u001b[0m         \u001b[1;32mif\u001b[0m \u001b[0mshow_all\u001b[0m\u001b[1;33m:\u001b[0m \u001b[1;32mreturn\u001b[0m \u001b[0mactual_result\u001b[0m\u001b[1;33m\u001b[0m\u001b[1;33m\u001b[0m\u001b[0m\n\u001b[1;32m--> 858\u001b[1;33m         \u001b[1;32mif\u001b[0m \u001b[1;32mnot\u001b[0m \u001b[0misinstance\u001b[0m\u001b[1;33m(\u001b[0m\u001b[0mactual_result\u001b[0m\u001b[1;33m,\u001b[0m \u001b[0mdict\u001b[0m\u001b[1;33m)\u001b[0m \u001b[1;32mor\u001b[0m \u001b[0mlen\u001b[0m\u001b[1;33m(\u001b[0m\u001b[0mactual_result\u001b[0m\u001b[1;33m.\u001b[0m\u001b[0mget\u001b[0m\u001b[1;33m(\u001b[0m\u001b[1;34m\"alternative\"\u001b[0m\u001b[1;33m,\u001b[0m \u001b[1;33m[\u001b[0m\u001b[1;33m]\u001b[0m\u001b[1;33m)\u001b[0m\u001b[1;33m)\u001b[0m \u001b[1;33m==\u001b[0m \u001b[1;36m0\u001b[0m\u001b[1;33m:\u001b[0m \u001b[1;32mraise\u001b[0m \u001b[0mUnknownValueError\u001b[0m\u001b[1;33m(\u001b[0m\u001b[1;33m)\u001b[0m\u001b[1;33m\u001b[0m\u001b[1;33m\u001b[0m\u001b[0m\n\u001b[0m\u001b[0;32m    859\u001b[0m \u001b[1;33m\u001b[0m\u001b[0m\n\u001b[0;32m    860\u001b[0m         \u001b[1;32mif\u001b[0m \u001b[1;34m\"confidence\"\u001b[0m \u001b[1;32min\u001b[0m \u001b[0mactual_result\u001b[0m\u001b[1;33m[\u001b[0m\u001b[1;34m\"alternative\"\u001b[0m\u001b[1;33m]\u001b[0m\u001b[1;33m:\u001b[0m\u001b[1;33m\u001b[0m\u001b[1;33m\u001b[0m\u001b[0m\n",
      "\u001b[1;31mUnknownValueError\u001b[0m: "
     ]
    }
   ],
   "source": [
    "get_voice()\n"
   ]
  },
  {
   "cell_type": "code",
   "execution_count": 36,
   "metadata": {
    "kernel": "SoS"
   },
   "outputs": [
    {
     "data": {
      "text/plain": [
       "[]"
      ]
     },
     "execution_count": 36,
     "metadata": {},
     "output_type": "execute_result"
    }
   ],
   "source": [
    "[x for x in raw_text if x in sensitive_keywords]"
   ]
  },
  {
   "cell_type": "code",
   "execution_count": 12,
   "metadata": {
    "kernel": "JavaScript (Node.js)"
   },
   "outputs": [],
   "source": [
    "# // new speech recognition object\n",
    "# var SpeechRecognition = SpeechRecognition || webkitSpeechRecognition;\n",
    "# var recognition = new SpeechRecognition();\n",
    "            \n",
    "# // This runs when the speech recognition service starts\n",
    "# recognition.onstart = function() {\n",
    "#     console.log(\"We are listening. Try speaking into the microphone.\");\n",
    "# };\n",
    "\n",
    "# recognition.onspeechend = function() {\n",
    "#     // when user is done speaking\n",
    "#     recognition.stop();\n",
    "# }\n",
    "              \n",
    "# // This runs when the speech recognition service returns result\n",
    "# recognition.onresult = function(event) {\n",
    "#     var transcript = event.results[0][0].transcript;\n",
    "#     var confidence = event.results[0][0].confidence;\n",
    "# };\n",
    "              \n",
    "# // start recognition\n",
    "# recognition.start();"
   ]
  },
  {
   "cell_type": "code",
   "execution_count": 5,
   "metadata": {
    "kernel": "SoS"
   },
   "outputs": [],
   "source": [
    "import pyttsx3;\n",
    "def tts (text):\n",
    "    engine = pyttsx3.init();\n",
    "    engine.say(text);\n",
    "    # engine.setProperty('voice', voices[2].id)\n",
    "    engine.setProperty(\"rate\", 155)\n",
    "    engine.runAndWait() ;"
   ]
  },
  {
   "cell_type": "code",
   "execution_count": 14,
   "metadata": {
    "kernel": "SoS"
   },
   "outputs": [],
   "source": [
    "name = 'Saeed'"
   ]
  },
  {
   "cell_type": "markdown",
   "metadata": {
    "kernel": "SoS"
   },
   "source": [
    "open an ifc file"
   ]
  },
  {
   "cell_type": "code",
   "execution_count": 15,
   "metadata": {
    "kernel": "SoS"
   },
   "outputs": [],
   "source": [
    "tts (f' , How can I help you {name}')"
   ]
  },
  {
   "cell_type": "code",
   "execution_count": 20,
   "metadata": {
    "kernel": "SoS"
   },
   "outputs": [
    {
     "data": {
      "text/plain": [
       "'open at 5'"
      ]
     },
     "execution_count": 20,
     "metadata": {},
     "output_type": "execute_result"
    }
   ],
   "source": [
    "command_text = get_voice()\n",
    "command_text"
   ]
  },
  {
   "cell_type": "code",
   "execution_count": 6,
   "metadata": {
    "kernel": "SoS"
   },
   "outputs": [],
   "source": [
    "sensitive_keywords = [\"wall\", \"door\", \"open\",\"create\",\"change\", \"name\", \"height\", \"y dimension\", \"x dimension\", \"description\", \"global id\" \"Red\",\"Blue\",\"Black\"]\n",
    "colors = [\"red\",\"blue\",\"black\"]\n",
    "dimensions = [\"x\",\"y\",\"height\"]\n",
    "colors = [\"red\",\"blue\",\"black\"]\n",
    "elements = [\"wall\",\"window\",\"door\"]\n",
    "files = [\"4\",\"5\",\"6\"]"
   ]
  },
  {
   "cell_type": "code",
   "execution_count": 22,
   "metadata": {
    "kernel": "SoS"
   },
   "outputs": [
    {
     "data": {
      "text/plain": [
       "True"
      ]
     },
     "execution_count": 22,
     "metadata": {},
     "output_type": "execute_result"
    }
   ],
   "source": [
    "command_ = [x for x in sensitive_keywords if x in command_text]\n",
    "bool(command_)"
   ]
  },
  {
   "cell_type": "code",
   "execution_count": 23,
   "metadata": {
    "kernel": "SoS"
   },
   "outputs": [],
   "source": [
    "tts (f' Ok, I will {command_}')"
   ]
  },
  {
   "cell_type": "code",
   "execution_count": 24,
   "metadata": {
    "kernel": "SoS"
   },
   "outputs": [],
   "source": [
    "file_name = \"ifcmodeltext.txt\"\n",
    "ifc_model_text = open(\"{file_name}.txt\", \"a+\")"
   ]
  },
  {
   "cell_type": "code",
   "execution_count": 48,
   "metadata": {
    "kernel": "SoS"
   },
   "outputs": [
    {
     "name": "stdout",
     "output_type": "stream",
     "text": [
      "what is 1.6\n"
     ]
    }
   ],
   "source": [
    "print(file_name)"
   ]
  },
  {
   "cell_type": "code",
   "execution_count": 47,
   "metadata": {
    "kernel": "SoS"
   },
   "outputs": [
    {
     "data": {
      "text/plain": [
       "True"
      ]
     },
     "execution_count": 47,
     "metadata": {},
     "output_type": "execute_result"
    }
   ],
   "source": [
    "import webbrowser\n",
    "webbrowser.open(file_name)"
   ]
  },
  {
   "cell_type": "code",
   "execution_count": 26,
   "metadata": {
    "kernel": "SoS"
   },
   "outputs": [
    {
     "data": {
      "text/plain": [
       "['4', '5', '6']"
      ]
     },
     "execution_count": 26,
     "metadata": {},
     "output_type": "execute_result"
    }
   ],
   "source": [
    "files"
   ]
  },
  {
   "cell_type": "code",
   "execution_count": 32,
   "metadata": {
    "kernel": "SoS"
   },
   "outputs": [
    {
     "name": "stdout",
     "output_type": "stream",
     "text": [
      "what is 1.6\n",
      "1.6\n"
     ]
    },
    {
     "data": {
      "text/plain": [
       "True"
      ]
     },
     "execution_count": 32,
     "metadata": {},
     "output_type": "execute_result"
    }
   ],
   "source": [
    "file_name = get_voice()\n",
    "print(file_name)\n",
    "file_name_ = re.findall('\\d*\\.?\\d+', file_name)[0]\n",
    "print(file_name_)\n",
    "bool([x for x in file_name_ if x in files])"
   ]
  },
  {
   "cell_type": "code",
   "execution_count": 81,
   "metadata": {
    "kernel": "SoS"
   },
   "outputs": [],
   "source": [
    "def file_opening():\n",
    "    \n",
    "    # file_name = {}\n",
    "    # if bool(file_name) == False:\n",
    "    tts (f' Can you please give me the file name')\n",
    "    get_voice_text = get_voice()\n",
    "    file_name_ = re.findall('\\d*\\.?\\d+',get_voice_text)[0]\n",
    "    if [x for x in file_name_ if x in files]:\n",
    "        # print(x)\n",
    "        webbrowser.open(f'{file_name_}.txt')\n",
    "    else:\n",
    "        tts (f' Sorry, but I can only open file {files}')\n",
    "\n",
    "            \n",
    "    print(file_name_)\n",
    "\n",
    "        "
   ]
  },
  {
   "cell_type": "code",
   "execution_count": 83,
   "metadata": {
    "kernel": "SoS"
   },
   "outputs": [
    {
     "name": "stdout",
     "output_type": "stream",
     "text": [
      "7\n"
     ]
    }
   ],
   "source": [
    "file_opening()"
   ]
  },
  {
   "cell_type": "code",
   "execution_count": 94,
   "metadata": {
    "kernel": "SoS"
   },
   "outputs": [],
   "source": [
    "import speech_recognition as sr\n",
    "def callback(recognizer, audio):                          # this is called from the background thread\n",
    "    try:\n",
    "        print(\"You said \" + recognizer.recognize(audio))  # received audio data, now need to recognize it\n",
    "    except LookupError:\n",
    "        print(\"Oops! Didn't catch that\")"
   ]
  },
  {
   "cell_type": "markdown",
   "metadata": {
    "kernel": "SoS"
   },
   "source": [
    "report the name of the elements"
   ]
  },
  {
   "cell_type": "code",
   "execution_count": 66,
   "metadata": {
    "kernel": "SoS"
   },
   "outputs": [
    {
     "ename": "NameError",
     "evalue": "name 'commands_' is not defined",
     "output_type": "error",
     "traceback": [
      "\u001b[1;31m---------------------------------------------------------------------------\u001b[0m",
      "\u001b[1;31mNameError\u001b[0m                                 Traceback (most recent call last)",
      "\u001b[1;32m<ipython-input-66-4106d53b02d9>\u001b[0m in \u001b[0;36m<module>\u001b[1;34m\u001b[0m\n\u001b[0;32m      3\u001b[0m \u001b[0mcommand_\u001b[0m \u001b[1;33m=\u001b[0m \u001b[1;33m[\u001b[0m\u001b[0mx\u001b[0m \u001b[1;32mfor\u001b[0m \u001b[0mx\u001b[0m \u001b[1;32min\u001b[0m \u001b[0mcommands\u001b[0m \u001b[1;32mif\u001b[0m \u001b[0mx\u001b[0m \u001b[1;32min\u001b[0m \u001b[0mcommand_text\u001b[0m\u001b[1;33m]\u001b[0m\u001b[1;33m\u001b[0m\u001b[1;33m\u001b[0m\u001b[0m\n\u001b[0;32m      4\u001b[0m \u001b[0mtts\u001b[0m \u001b[1;33m(\u001b[0m\u001b[1;34mf' Ok, I will give you the {command_}'\u001b[0m\u001b[1;33m)\u001b[0m\u001b[1;33m\u001b[0m\u001b[1;33m\u001b[0m\u001b[0m\n\u001b[1;32m----> 5\u001b[1;33m \u001b[0mprint\u001b[0m \u001b[1;33m(\u001b[0m\u001b[0mcommands_\u001b[0m\u001b[1;33m)\u001b[0m\u001b[1;33m\u001b[0m\u001b[1;33m\u001b[0m\u001b[0m\n\u001b[0m",
      "\u001b[1;31mNameError\u001b[0m: name 'commands_' is not defined"
     ]
    }
   ],
   "source": [
    "command_text = get_voice()\n",
    "command_text\n",
    "command_ = [x for x in sensitive_keywords if x in command_text]\n",
    "tts (f' Ok, I will give you the {command_}')\n"
   ]
  },
  {
   "cell_type": "code",
   "execution_count": 67,
   "metadata": {
    "kernel": "SoS"
   },
   "outputs": [
    {
     "name": "stdout",
     "output_type": "stream",
     "text": [
      "['change', 'height', 'y']\n"
     ]
    }
   ],
   "source": [
    "print (command_)"
   ]
  },
  {
   "cell_type": "code",
   "execution_count": 44,
   "metadata": {
    "kernel": "SoS"
   },
   "outputs": [],
   "source": [
    "wall_name = wall.Name"
   ]
  },
  {
   "cell_type": "code",
   "execution_count": 45,
   "metadata": {
    "kernel": "SoS"
   },
   "outputs": [],
   "source": [
    "tts (f' the name of the element is {wall_name}')"
   ]
  },
  {
   "cell_type": "markdown",
   "metadata": {
    "kernel": "SoS"
   },
   "source": [
    "report the description of the elements"
   ]
  },
  {
   "cell_type": "code",
   "execution_count": 46,
   "metadata": {
    "kernel": "SoS"
   },
   "outputs": [],
   "source": [
    "command_text = get_voice()\n",
    "command_text\n",
    "command_ = [x for x in sensitive_keywords if x in command_text]\n",
    "tts (f' Ok, I will give you the {command_}')"
   ]
  },
  {
   "cell_type": "code",
   "execution_count": 47,
   "metadata": {
    "kernel": "SoS"
   },
   "outputs": [],
   "source": [
    "wall_description = wall.Description\n",
    "tts (f' wall description is {wall_description}')"
   ]
  },
  {
   "cell_type": "markdown",
   "metadata": {
    "kernel": "SoS"
   },
   "source": [
    "create an ifc file\n"
   ]
  },
  {
   "cell_type": "code",
   "execution_count": 64,
   "metadata": {
    "kernel": "SoS"
   },
   "outputs": [
    {
     "name": "stdout",
     "output_type": "stream",
     "text": [
      "the value is 1.8\n"
     ]
    }
   ],
   "source": [
    "command_text = get_voice()\n",
    "print(command_text)\n",
    "# command_text.extract('(\\d+\\W*\\d*)')\n",
    "# command_ = [x for x in command_text if x.isdigit()]\n",
    "# command_\n",
    "import re\n",
    "value_ = re.findall('\\d*\\.?\\d+',command_text)[0]\n",
    "value_\n",
    "tts (f' Ok, value you gave me was {value_}, right?')\n"
   ]
  },
  {
   "cell_type": "markdown",
   "metadata": {
    "kernel": "SoS"
   },
   "source": [
    "create a wall"
   ]
  },
  {
   "cell_type": "markdown",
   "metadata": {
    "kernel": "SoS"
   },
   "source": [
    "create a window"
   ]
  },
  {
   "cell_type": "markdown",
   "metadata": {
    "kernel": "SoS"
   },
   "source": [
    "create a door"
   ]
  },
  {
   "cell_type": "markdown",
   "metadata": {
    "kernel": "SoS"
   },
   "source": [
    "change the color of objects"
   ]
  },
  {
   "cell_type": "markdown",
   "metadata": {
    "kernel": "SoS"
   },
   "source": [
    "change the size of the viewer"
   ]
  },
  {
   "cell_type": "code",
   "execution_count": null,
   "metadata": {
    "kernel": "SoS"
   },
   "outputs": [],
   "source": [
    "ifcfile = ifcopenshell.open(\"./one.ifc\")"
   ]
  },
  {
   "cell_type": "code",
   "execution_count": 43,
   "metadata": {
    "kernel": "SoS"
   },
   "outputs": [],
   "source": [
    "import ifcopenshell\n",
    "import numpy\n",
    "import apiai\n",
    "import speech_recognition as sr\n",
    "import re\n",
    "import pyttsx3\n",
    "import webbrowser\n",
    "\n",
    "\n",
    "sensitive_keywords = [\"colour\", \"dimension\", \"element\", \"file\"]\n",
    "colours = [\"red\",\"blue\",\"yellow\"]\n",
    "dimensions = [\"x\",\"y\",\"height\"]\n",
    "\n",
    "\n",
    "elements = [\"wall\",\"window\",\"door\"]\n",
    "files = [\"4\",\"5\",\"6\"]\n",
    "\n",
    "\n",
    "def text_to_voice (text):\n",
    "\n",
    "    engine = pyttsx3.init();\n",
    "    engine.say(text);\n",
    "    # engine.setProperty('voice', voices[2].id)\n",
    "    engine.setProperty(\"rate\", 155)\n",
    "    engine.runAndWait() ;\n",
    "\n",
    "\n",
    "def get_voice():\n",
    "\n",
    "    raw_text = {}\n",
    "    r = sr.Recognizer()\n",
    "    mic = sr.Microphone()\n",
    "    with mic as source:\n",
    "        r.adjust_for_ambient_noise(source, duration=1)\n",
    "        r.pause_threshold = 0.8\n",
    "        r.dynamic_energy_threshold = True\n",
    "        audio = r.listen(source)\n",
    "        raw_text = r.recognize_google(audio)\n",
    "    return raw_text\n",
    "\n",
    "\n",
    "def nlp(raw_text, sensitive_keywords):\n",
    "\n",
    "    command_type = [x for x in sensitive_keywords if x in raw_text]\n",
    "    if command_type[0] == 'colour':\n",
    "        command_sup = [x for x in colours if x in raw_text]\n",
    "    elif command_type[0] == 'dimension':\n",
    "        command_sup = [x for x in dimensions if x in raw_text]\n",
    "    elif command_type[0] == 'element':\n",
    "        command_sup = [x for x in elements if x in raw_text]\n",
    "    elif command_type[0] == 'file':\n",
    "        command_sup = [x for x in files if x in raw_text]\n",
    "    return command_type, command_sup\n",
    "\n",
    "\n",
    "def open_file():\n",
    "\n",
    "    text_to_voice (f' Can you please give me the file name')\n",
    "    get_voice_text = get_voice()\n",
    "    file_name_ = re.findall('\\d*\\.?\\d+',get_voice_text)[0]\n",
    "\n",
    "    if [x for x in file_name_ if x in files]:\n",
    "        \n",
    "        webbrowser.open(f'{file_name_}.txt')\n",
    "\n",
    "    else:\n",
    "        \n",
    "        while bool([x for x in file_name_ if x in files])==False:\n",
    "            \n",
    "            text_to_voice (f' Sorry, but I can only open file {files}, Can you please give me the file name?')\n",
    "            get_voice_text = get_voice()\n",
    "            file_name_ = re.findall('\\d*\\.?\\d+',get_voice_text)[0]\n",
    "            if [x for x in file_name_ if x in files]:\n",
    "                webbrowser.open(f'{file_name_}.txt')\n",
    "\n",
    "\n",
    "def get_action(command_type, command_sup):\n",
    "\n",
    "    if command_type[0] == 'colour':\n",
    "        pass\n",
    "    elif command_type[0] == 'dimension':\n",
    "        pass\n",
    "    elif command_type[0] == 'element':\n",
    "        pass\n",
    "    elif command_type[0] == 'file':\n",
    "        open_file()           \n",
    "\n",
    "\n"
   ]
  },
  {
   "cell_type": "code",
   "execution_count": 38,
   "metadata": {
    "kernel": "SoS"
   },
   "outputs": [],
   "source": [
    "text_to_voice ('asadsad')"
   ]
  },
  {
   "cell_type": "code",
   "execution_count": 39,
   "metadata": {
    "kernel": "SoS"
   },
   "outputs": [],
   "source": [
    "raw_text = get_voice()\n"
   ]
  },
  {
   "cell_type": "code",
   "execution_count": 40,
   "metadata": {
    "kernel": "SoS"
   },
   "outputs": [
    {
     "data": {
      "text/plain": [
       "'please open a file for me'"
      ]
     },
     "execution_count": 40,
     "metadata": {},
     "output_type": "execute_result"
    }
   ],
   "source": [
    "raw_text"
   ]
  },
  {
   "cell_type": "code",
   "execution_count": 41,
   "metadata": {
    "kernel": "SoS"
   },
   "outputs": [],
   "source": [
    "command_type, command_sup = nlp(raw_text, sensitive_keywords)"
   ]
  },
  {
   "cell_type": "code",
   "execution_count": 48,
   "metadata": {
    "kernel": "SoS"
   },
   "outputs": [],
   "source": [
    "get_action(command_type, command_sup)\n"
   ]
  },
  {
   "cell_type": "code",
   "execution_count": null,
   "metadata": {},
   "outputs": [],
   "source": []
  }
 ],
 "metadata": {
  "interpreter": {
   "hash": "5929598a8d61c44ccd521b0442ce2fff89777ecc3c6a7d5730a5eceb1b6a08be"
  },
  "kernelspec": {
   "display_name": "va",
   "language": "python",
   "name": "va"
  },
  "language_info": {
   "codemirror_mode": {
    "name": "ipython",
    "version": 3
   },
   "file_extension": ".py",
   "mimetype": "text/x-python",
   "name": "python",
   "nbconvert_exporter": "python",
   "pygments_lexer": "ipython3",
   "version": "3.6.13"
  },
  "sos": {
   "kernels": [
    [
     "JavaScript (Node.js)",
     "javascript",
     "javascript",
     "",
     ""
    ],
    [
     "SoS",
     "sos",
     "",
     "",
     "sos"
    ],
    [
     "va",
     "va",
     "python3",
     "",
     {
      "name": "ipython",
      "version": 3
     }
    ]
   ],
   "panel": {
    "displayed": false,
    "height": 0
   },
   "version": "0.22.6"
  }
 },
 "nbformat": 4,
 "nbformat_minor": 4
}
