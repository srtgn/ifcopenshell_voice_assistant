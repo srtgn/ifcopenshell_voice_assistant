{
 "cells": [
  {
   "cell_type": "markdown",
   "metadata": {
    "kernel": "SoS"
   },
   "source": [
    "# IFC OpenShell Voice Assistant - Prototype #5\n"
   ]
  },
  {
   "cell_type": "code",
   "execution_count": null,
   "metadata": {},
   "outputs": [],
   "source": [
    "%%html\n",
    "<iframe src=\"https://ifcjs.github.io/web-ifc-viewer/example/index\" width=\"500\" height=\"250\"></iframe>"
   ]
  },
  {
   "cell_type": "code",
   "execution_count": null,
   "metadata": {
    "kernel": "SoS"
   },
   "outputs": [],
   "source": [
    "import ifcopenshell\n",
    "import numpy\n",
    "import apiai\n",
    "import speech_recognition as sr\n",
    "import re\n",
    "import pyttsx3\n",
    "import webbrowser\n",
    "\n",
    "sensitive_keywords = [\"colour\", \"dimension\", \"element\", \"file\"]\n",
    "colours = [\"red\",\"blue\",\"yellow\"]\n",
    "dimensions = [\"x\",\"y\",\"height\"]\n",
    "elements = [\"wall\",\"window\",\"door\"]\n",
    "files = [\"4\",\"5\",\"6\"]\n",
    "\n",
    "\n",
    "def text_to_voice (text):\n",
    "\n",
    "    engine = pyttsx3.init();\n",
    "    engine.say(text);\n",
    "    # engine.setProperty('voice', voices[2].id)\n",
    "    engine.setProperty(\"rate\", 155)\n",
    "    engine.runAndWait() ;\n",
    "\n",
    "\n",
    "def get_voice():\n",
    "\n",
    "    raw_text = {}\n",
    "    r = sr.Recognizer()\n",
    "    mic = sr.Microphone()\n",
    "    with mic as source:\n",
    "        r.adjust_for_ambient_noise(source, duration=1)\n",
    "        r.pause_threshold = 0.8\n",
    "        r.dynamic_energy_threshold = True\n",
    "        audio = r.listen(source)\n",
    "        raw_text = r.recognize_google(audio)\n",
    "    return raw_text\n",
    "\n",
    "\n",
    "def nlp(raw_text, sensitive_keywords):\n",
    "\n",
    "    command_type = [x for x in sensitive_keywords if x in raw_text]\n",
    "    if command_type[0] == 'colour':\n",
    "        command_sup = [x for x in colours if x in raw_text]\n",
    "    elif command_type[0] == 'dimension':\n",
    "        command_sup = [x for x in dimensions if x in raw_text]\n",
    "    elif command_type[0] == 'element':\n",
    "        command_sup = [x for x in elements if x in raw_text]\n",
    "    elif command_type[0] == 'file':\n",
    "        command_sup = [x for x in files if x in raw_text]\n",
    "    return command_type, command_sup\n",
    "\n",
    "\n",
    "def open_file():\n",
    "\n",
    "    text_to_voice (f' Can you please give me the file name')\n",
    "    get_voice_text = get_voice()\n",
    "    file_name_ = re.findall('\\d*\\.?\\d+',get_voice_text)[0]\n",
    "\n",
    "    if [x for x in file_name_ if x in files]:\n",
    "        \n",
    "        text_to_voice (f'Ok, I will open the file {file_name_}')\n",
    "        webbrowser.open(f'{file_name_}.txt')\n",
    "\n",
    "    else:\n",
    "        \n",
    "        while bool([x for x in file_name_ if x in files])==False:\n",
    "            \n",
    "            text_to_voice (f' Sorry, but I can only open file {files}, Can you please give me the file name?')\n",
    "            get_voice_text = get_voice()\n",
    "            file_name_ = re.findall('\\d*\\.?\\d+',get_voice_text)[0]\n",
    "            if [x for x in file_name_ if x in files]:\n",
    "                text_to_voice (f'Ok, I will open the file {file_name_}')\n",
    "                webbrowser.open(f'{file_name_}.txt')\n",
    "\n",
    "def change_wall_color():\n",
    "    \n",
    "    text_to_voice (f' Can you please give me the desired colour')\n",
    "    get_voice_text = get_voice()\n",
    "    colour_name_ = [x for x in get_voice_text if x in colours]\n",
    "\n",
    "    if [x for x in colours if x in get_voice_text]:\n",
    "        \n",
    "        text_to_voice (f'Ok, I will change the colour to {colour_name_}')\n",
    "        \"\"\"a command to change the colour of the wall\"\"\"\n",
    "        \n",
    "    else:\n",
    "        \n",
    "        while bool([x for x in colours if x in get_voice_text])==False:\n",
    "            \n",
    "            text_to_voice (f' Sorry, but I can only change to colour to {colours},Can you please give me the desired colour?')\n",
    "            get_voice_text = get_voice()\n",
    "            colour_name_ = [x for x in colours if x in get_voice_text]\n",
    "            \n",
    "            if [x for x in colour_name_ if x in colours]:\n",
    "                \n",
    "                text_to_voice (f'Ok, I will change the colour to {colour_name_}')\n",
    "                \"\"\"a command to change the colour of the wall\"\"\"\n",
    "\n",
    "\n",
    "             \n",
    "def change_dimension():\n",
    "    pass\n",
    "\n",
    "\n",
    "def create_element():\n",
    "    pass\n",
    "\n",
    "\n",
    "def get_action(command_type, command_sup):\n",
    "\n",
    "    if command_type[0] == 'colour':\n",
    "        change_wall_color()\n",
    "        \n",
    "    elif command_type[0] == 'dimension':\n",
    "        change_dimension()\n",
    "        \n",
    "    elif command_type[0] == 'element':\n",
    "        create_element()\n",
    "        \n",
    "    elif command_type[0] == 'file':\n",
    "        open_file()           "
   ]
  },
  {
   "cell_type": "code",
   "execution_count": null,
   "metadata": {
    "kernel": "SoS"
   },
   "outputs": [],
   "source": [
    "text_to_voice ('Hi')"
   ]
  },
  {
   "cell_type": "code",
   "execution_count": null,
   "metadata": {
    "kernel": "SoS"
   },
   "outputs": [],
   "source": [
    "raw_text = get_voice()"
   ]
  },
  {
   "cell_type": "code",
   "execution_count": null,
   "metadata": {
    "kernel": "SoS"
   },
   "outputs": [],
   "source": [
    "raw_text"
   ]
  },
  {
   "cell_type": "code",
   "execution_count": null,
   "metadata": {},
   "outputs": [],
   "source": [
    "colours"
   ]
  },
  {
   "cell_type": "code",
   "execution_count": null,
   "metadata": {},
   "outputs": [],
   "source": [
    "colour_name = [x for x in colours if x in raw_text]\n",
    "colour_name"
   ]
  },
  {
   "cell_type": "code",
   "execution_count": null,
   "metadata": {
    "kernel": "SoS"
   },
   "outputs": [],
   "source": [
    "command_type, command_sup = nlp(raw_text, sensitive_keywords)"
   ]
  },
  {
   "cell_type": "code",
   "execution_count": null,
   "metadata": {
    "kernel": "SoS"
   },
   "outputs": [],
   "source": [
    "get_action(command_type, command_sup)"
   ]
  }
 ],
 "metadata": {
  "interpreter": {
   "hash": "5929598a8d61c44ccd521b0442ce2fff89777ecc3c6a7d5730a5eceb1b6a08be"
  },
  "kernelspec": {
   "display_name": "va",
   "language": "python",
   "name": "va"
  },
  "language_info": {
   "codemirror_mode": {
    "name": "ipython",
    "version": 3
   },
   "file_extension": ".py",
   "mimetype": "text/x-python",
   "name": "python",
   "nbconvert_exporter": "python",
   "pygments_lexer": "ipython3",
   "version": "3.6.13"
  },
  "sos": {
   "kernels": [
    [
     "JavaScript (Node.js)",
     "javascript",
     "javascript",
     "",
     ""
    ],
    [
     "SoS",
     "sos",
     "",
     "",
     "sos"
    ],
    [
     "va",
     "va",
     "python3",
     "",
     {
      "name": "ipython",
      "version": 3
     }
    ]
   ],
   "panel": {
    "displayed": false,
    "height": 0
   },
   "version": "0.22.6"
  }
 },
 "nbformat": 4,
 "nbformat_minor": 4
}
