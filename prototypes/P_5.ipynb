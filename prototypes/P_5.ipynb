{
 "cells": [
  {
   "cell_type": "markdown",
   "metadata": {},
   "source": [
    "# IFC OpenShell Voice Assistant - Prototype #5\n"
   ]
  },
  {
   "cell_type": "markdown",
   "metadata": {},
   "source": [
    "#### Example code from\n",
    "https://academy.ifcopenshell.org/posts/creating-a-simple-wall-with-property-set-and-quantity-information/\n",
    "\n",
    "This code creates an ifc template file, a wall element, and an openning in it"
   ]
  },
  {
   "cell_type": "code",
   "execution_count": null,
   "metadata": {},
   "outputs": [],
   "source": [
    "import uuid\n",
    "import time\n",
    "import tempfile\n",
    "import ifcopenshell"
   ]
  },
  {
   "cell_type": "code",
   "execution_count": null,
   "metadata": {},
   "outputs": [],
   "source": [
    "O = 0., 0., 0.\n",
    "X = 1., 0., 0.\n",
    "Y = 0., 1., 0.\n",
    "Z = 0., 0., 1."
   ]
  },
  {
   "cell_type": "code",
   "execution_count": null,
   "metadata": {},
   "outputs": [],
   "source": [
    "# Helper function definitions\n",
    "\n",
    "# Creates an IfcAxis2Placement3D from Location, Axis and RefDirection specified as Python tuples\n",
    "def create_ifcaxis2placement(ifcfile, point=O, dir1=Z, dir2=X):\n",
    "    point = ifcfile.createIfcCartesianPoint(point)\n",
    "    dir1 = ifcfile.createIfcDirection(dir1)\n",
    "    dir2 = ifcfile.createIfcDirection(dir2)\n",
    "    axis2placement = ifcfile.createIfcAxis2Placement3D(point, dir1, dir2)\n",
    "    return axis2placement\n",
    "\n",
    "# Creates an IfcLocalPlacement from Location, Axis and RefDirection, specified as Python tuples, and relative placement\n",
    "def create_ifclocalplacement(ifcfile, point=O, dir1=Z, dir2=X, relative_to=None):\n",
    "    axis2placement = create_ifcaxis2placement(ifcfile,point,dir1,dir2)\n",
    "    ifclocalplacement2 = ifcfile.createIfcLocalPlacement(relative_to,axis2placement)\n",
    "    return ifclocalplacement2\n",
    "\n",
    "# Creates an IfcPolyLine from a list of points, specified as Python tuples\n",
    "def create_ifcpolyline(ifcfile, point_list):\n",
    "    ifcpts = []\n",
    "    for point in point_list:\n",
    "        point = ifcfile.createIfcCartesianPoint(point)\n",
    "        ifcpts.append(point)\n",
    "    polyline = ifcfile.createIfcPolyLine(ifcpts)\n",
    "    return polyline\n",
    "    \n",
    "# Creates an IfcExtrudedAreaSolid from a list of points, specified as Python tuples\n",
    "def create_ifcextrudedareasolid(ifcfile, point_list, ifcaxis2placement, extrude_dir, extrusion):\n",
    "    polyline = create_ifcpolyline(ifcfile, point_list)\n",
    "    ifcclosedprofile = ifcfile.createIfcArbitraryClosedProfileDef(\"AREA\", None, polyline)\n",
    "    ifcdir = ifcfile.createIfcDirection(extrude_dir)\n",
    "    ifcextrudedareasolid = ifcfile.createIfcExtrudedAreaSolid(ifcclosedprofile, ifcaxis2placement, ifcdir, extrusion)\n",
    "    return ifcextrudedareasolid\n",
    "    \n",
    "create_guid = lambda: ifcopenshell.guid.compress(uuid.uuid1().hex)\n"
   ]
  },
  {
   "cell_type": "code",
   "execution_count": null,
   "metadata": {},
   "outputs": [],
   "source": [
    "# IFC template creation\n",
    "\n",
    "filename = \"hello_wall_P_5.ifc\"\n",
    "timestamp = time.time()\n",
    "timestring = time.strftime(\"%Y-%m-%dT%H:%M:%S\", time.gmtime(timestamp))\n",
    "creator = \"Kianwee Chen\"\n",
    "organization = \"ETHZ\"\n",
    "application, application_version = \"IfcOpenShell\", \"0.5\"\n",
    "project_globalid, project_name = create_guid(), \"Hello Wall\"\n",
    "    \n",
    "# A template IFC file to quickly populate entity instances for an IfcProject with its dependencies\n",
    "template = \"\"\"ISO-10303-21;\n",
    "HEADER;\n",
    "FILE_DESCRIPTION(('ViewDefinition [CoordinationView]'),'2;1');\n",
    "FILE_NAME('%(filename)s','%(timestring)s',('%(creator)s'),('%(organization)s'),'%(application)s','%(application)s','');\n",
    "FILE_SCHEMA(('IFC2X3'));\n",
    "ENDSEC;\n",
    "DATA;\n",
    "#1=IFCPERSON($,$,'%(creator)s',$,$,$,$,$);\n",
    "#2=IFCORGANIZATION($,'%(organization)s',$,$,$);\n",
    "#3=IFCPERSONANDORGANIZATION(#1,#2,$);\n",
    "#4=IFCAPPLICATION(#2,'%(application_version)s','%(application)s','');\n",
    "#5=IFCOWNERHISTORY(#3,#4,$,.ADDED.,$,#3,#4,%(timestamp)s);\n",
    "#6=IFCDIRECTION((1.,0.,0.));\n",
    "#7=IFCDIRECTION((0.,0.,1.));\n",
    "#8=IFCCARTESIANPOINT((0.,0.,0.));\n",
    "#9=IFCAXIS2PLACEMENT3D(#8,#7,#6);\n",
    "#10=IFCDIRECTION((0.,1.,0.));\n",
    "#11=IFCGEOMETRICREPRESENTATIONCONTEXT($,'Model',3,1.E-05,#9,#10);\n",
    "#12=IFCDIMENSIONALEXPONENTS(0,0,0,0,0,0,0);\n",
    "#13=IFCSIUNIT(*,.LENGTHUNIT.,$,.METRE.);\n",
    "#14=IFCSIUNIT(*,.AREAUNIT.,$,.SQUARE_METRE.);\n",
    "#15=IFCSIUNIT(*,.VOLUMEUNIT.,$,.CUBIC_METRE.);\n",
    "#16=IFCSIUNIT(*,.PLANEANGLEUNIT.,$,.RADIAN.);\n",
    "#17=IFCMEASUREWITHUNIT(IFCPLANEANGLEMEASURE(0.017453292519943295),#16);\n",
    "#18=IFCCONVERSIONBASEDUNIT(#12,.PLANEANGLEUNIT.,'DEGREE',#17);\n",
    "#19=IFCUNITASSIGNMENT((#13,#14,#15,#18));\n",
    "#20=IFCPROJECT('%(project_globalid)s',#5,'%(project_name)s',$,$,$,$,(#11),#19);\n",
    "ENDSEC;\n",
    "END-ISO-10303-21;\n",
    "\"\"\" % locals()\n",
    "\n",
    "# Write the template to a temporary file \n",
    "temp_handle, temp_filename = tempfile.mkstemp(suffix=\".ifc\")\n",
    "with open(temp_filename, \"w+\") as f:\n",
    "    f.write(template)\n",
    " \n",
    "# Obtain references to instances defined in template\n",
    "ifcfile = ifcopenshell.open(temp_filename)\n",
    "owner_history = ifcfile.by_type(\"IfcOwnerHistory\")[0]\n",
    "project = ifcfile.by_type(\"IfcProject\")[0]\n",
    "context = ifcfile.by_type(\"IfcGeometricRepresentationContext\")[0]\n"
   ]
  },
  {
   "cell_type": "code",
   "execution_count": null,
   "metadata": {},
   "outputs": [],
   "source": [
    "# IFC hierarchy creation\n",
    "site_placement = create_ifclocalplacement(ifcfile)\n",
    "site = ifcfile.createIfcSite(create_guid(), owner_history, \"Site\", None, None, site_placement, None, None, \"ELEMENT\", None, None, None, None, None)\n",
    "\n",
    "building_placement = create_ifclocalplacement(ifcfile, relative_to=site_placement)\n",
    "building = ifcfile.createIfcBuilding(create_guid(), owner_history, 'Building', None, None, building_placement, None, None, \"ELEMENT\", None, None, None)\n",
    "\n",
    "storey_placement = create_ifclocalplacement(ifcfile, relative_to=building_placement)\n",
    "elevation = 0.0\n",
    "building_storey = ifcfile.createIfcBuildingStorey(create_guid(), owner_history, 'Storey', None, None, storey_placement, None, None, \"ELEMENT\", elevation)\n",
    "\n",
    "container_storey = ifcfile.createIfcRelAggregates(create_guid(), owner_history, \"Building Container\", None, building, [building_storey])\n",
    "container_site = ifcfile.createIfcRelAggregates(create_guid(), owner_history, \"Site Container\", None, site, [building])\n",
    "container_project = ifcfile.createIfcRelAggregates(create_guid(), owner_history, \"Project Container\", None, project, [site])\n"
   ]
  },
  {
   "cell_type": "code",
   "execution_count": null,
   "metadata": {},
   "outputs": [],
   "source": [
    "# Wall creation: Define the wall shape as a polyline axis and an extruded area solid\n",
    "wall_placement = create_ifclocalplacement(ifcfile, relative_to=storey_placement)\n",
    "polyline = create_ifcpolyline(ifcfile, [(0.0, 0.0, 0.0), (5.0, 0.0, 0.0)])\n",
    "axis_representation = ifcfile.createIfcShapeRepresentation(context, \"Axis\", \"Curve2D\", [polyline])\n",
    "\n",
    "extrusion_placement = create_ifcaxis2placement(ifcfile, (0.0, 0.0, 0.0), (0.0, 0.0, 1.0), (1.0, 0.0, 0.0))\n",
    "point_list_extrusion_area = [(0.0, -0.1, 0.0), (5.0, -0.1, 0.0), (5.0, 0.1, 0.0), (0.0, 0.1, 0.0), (0.0, -0.1, 0.0)]\n",
    "solid = create_ifcextrudedareasolid(ifcfile, point_list_extrusion_area, extrusion_placement, (0.0, 0.0, 1.0), 3.0)\n",
    "body_representation = ifcfile.createIfcShapeRepresentation(context, \"Body\", \"SweptSolid\", [solid])\n",
    "\n",
    "product_shape = ifcfile.createIfcProductDefinitionShape(None, None, [axis_representation, body_representation])\n",
    "\n",
    "wall = ifcfile.createIfcWallStandardCase(create_guid(), owner_history, \"Wall\", \"An awesome wall\", None, wall_placement, product_shape, None)\n",
    "\n",
    "# Define and associate the wall material\n",
    "material = ifcfile.createIfcMaterial(\"wall material\")\n",
    "material_layer = ifcfile.createIfcMaterialLayer(material, 0.2, None)\n",
    "material_layer_set = ifcfile.createIfcMaterialLayerSet([material_layer], None)\n",
    "material_layer_set_usage = ifcfile.createIfcMaterialLayerSetUsage(material_layer_set, \"AXIS2\", \"POSITIVE\", -0.1)\n",
    "ifcfile.createIfcRelAssociatesMaterial(create_guid(), owner_history, RelatedObjects=[wall], RelatingMaterial=material_layer_set_usage)\n",
    "\n",
    "# Create and assign property set\n",
    "property_values = [\n",
    "    ifcfile.createIfcPropertySingleValue(\"Reference\", \"Reference\", ifcfile.create_entity(\"IfcText\", \"Describe the Reference\"), None),\n",
    "    ifcfile.createIfcPropertySingleValue(\"IsExternal\", \"IsExternal\", ifcfile.create_entity(\"IfcBoolean\", True), None),\n",
    "    ifcfile.createIfcPropertySingleValue(\"ThermalTransmittance\", \"ThermalTransmittance\", ifcfile.create_entity(\"IfcReal\", 2.569), None),\n",
    "    ifcfile.createIfcPropertySingleValue(\"IntValue\", \"IntValue\", ifcfile.create_entity(\"IfcInteger\", 2), None)\n",
    "]\n",
    "property_set = ifcfile.createIfcPropertySet(create_guid(), owner_history, \"Pset_WallCommon\", None, property_values)\n",
    "ifcfile.createIfcRelDefinesByProperties(create_guid(), owner_history, None, None, [wall], property_set)\n",
    "\n",
    "# Add quantity information\n",
    "quantity_values = [\n",
    "    ifcfile.createIfcQuantityLength(\"Length\", \"Length of the wall\", None, 5.0),\n",
    "    ifcfile.createIfcQuantityArea(\"Area\", \"Area of the front face\", None, 5.0 * solid.Depth),\n",
    "    ifcfile.createIfcQuantityVolume(\"Volume\", \"Volume of the wall\", None, 5.0 * solid.Depth * material_layer.LayerThickness)\n",
    "]\n",
    "element_quantity = ifcfile.createIfcElementQuantity(create_guid(), owner_history, \"BaseQuantities\", None, None, quantity_values)\n",
    "ifcfile.createIfcRelDefinesByProperties(create_guid(), owner_history, None, None, [wall], element_quantity)\n"
   ]
  },
  {
   "cell_type": "code",
   "execution_count": null,
   "metadata": {},
   "outputs": [],
   "source": [
    "# Create and associate an opening for the window in the wall\n",
    "opening_placement = create_ifclocalplacement(ifcfile, (0.5, 0.0, 1.0), (0.0, 0.0, 1.0), (1.0, 0.0, 0.0), wall_placement)\n",
    "opening_extrusion_placement = create_ifcaxis2placement(ifcfile, (0.0, 0.0, 0.0), (0.0, 0.0, 1.0), (1.0, 0.0, 0.0))\n",
    "point_list_opening_extrusion_area = [(0.0, -0.1, 0.0), (3.0, -0.1, 0.0), (3.0, 0.1, 0.0), (0.0, 0.1, 0.0), (0.0, -0.1, 0.0)]\n",
    "opening_solid = create_ifcextrudedareasolid(ifcfile, point_list_opening_extrusion_area, opening_extrusion_placement, (0.0, 0.0, 1.0), 1.0)\n",
    "opening_representation = ifcfile.createIfcShapeRepresentation(context, \"Body\", \"SweptSolid\", [opening_solid])\n",
    "opening_shape = ifcfile.createIfcProductDefinitionShape(None, None, [opening_representation])\n",
    "opening_element = ifcfile.createIfcOpeningElement(create_guid(), owner_history,\"Opening\", \"An awesome opening\", None, opening_placement, opening_shape, None)\n",
    "ifcfile.createIfcRelVoidsElement(create_guid(), owner_history, None, None, wall, opening_element)\n",
    "\n",
    "# Create a simplified representation for the Window\n",
    "window_placement = create_ifclocalplacement(ifcfile, (0.0, 0.0, 0.0), (0.0, 0.0, 1.0), (1.0, 0.0, 0.0), opening_placement)\n",
    "window_extrusion_placement = create_ifcaxis2placement(ifcfile, (0.0, 0.0, 0.0), (0.0, 0.0, 1.0), (1.0, 0.0, 0.0))\n",
    "point_list_window_extrusion_area = [(0.0, -0.01, 0.0), (3.0, -0.01, 0.0), (3.0, 0.01, 0.0), (0.0, 0.01, 0.0), (0.0, -0.01, 0.0)]\n",
    "window_solid = create_ifcextrudedareasolid(ifcfile, point_list_window_extrusion_area, window_extrusion_placement, (0.0, 0.0, 1.0), 1.0)\n",
    "window_representation = ifcfile.createIfcShapeRepresentation(context, \"Body\", \"SweptSolid\", [window_solid])\n",
    "window_shape = ifcfile.createIfcProductDefinitionShape(None, None, [window_representation])\n",
    "window = ifcfile.createIfcWindow(create_guid(), owner_history, \"Window\", \"An awesome window\", None, window_placement, window_shape, None, None)\n"
   ]
  },
  {
   "cell_type": "code",
   "execution_count": null,
   "metadata": {},
   "outputs": [],
   "source": [
    "# Relate the window to the opening element\n",
    "ifcfile.createIfcRelFillsElement(create_guid(), owner_history, None, None, opening_element, window)\n",
    "\n",
    "# Relate the window and wall to the building storey\n",
    "ifcfile.createIfcRelContainedInSpatialStructure(create_guid(), owner_history, \"Building Storey Container\", None, [wall, window], building_storey)\n",
    "\n",
    "# Write the contents of the file to disk\n",
    "ifcfile.write(filename)"
   ]
  },
  {
   "cell_type": "markdown",
   "metadata": {},
   "source": [
    "##### Voice assistant prototype #5"
   ]
  },
  {
   "cell_type": "code",
   "execution_count": null,
   "metadata": {},
   "outputs": [],
   "source": [
    "# import this modules for ifcopenshell commands and voice recognition\n",
    "import ifcopenshell\n",
    "import numpy\n",
    "import apiai\n",
    "import speech_recognition as sr"
   ]
  },
  {
   "cell_type": "code",
   "execution_count": null,
   "metadata": {},
   "outputs": [],
   "source": [
    "# Run and Google will start to listen you, tell us what you want to do \n",
    "def get_voice():\n",
    "    r = sr.Recognizer()\n",
    "    mic = sr.Microphone()\n",
    "    with mic as source:\n",
    "        r.adjust_for_ambient_noise(source, duration=1)\n",
    "        audio = r.listen(source)\n",
    "        \n",
    "    raw_text = r.recognize_google(audio)\n",
    "    return raw_text"
   ]
  },
  {
   "cell_type": "code",
   "execution_count": null,
   "metadata": {},
   "outputs": [],
   "source": [
    "get_voice()"
   ]
  },
  {
   "cell_type": "code",
   "execution_count": null,
   "metadata": {},
   "outputs": [],
   "source": [
    "import pyttsx3;\n",
    "def tts (text):\n",
    "    engine = pyttsx3.init();\n",
    "    engine.say(text);\n",
    "    # engine.setProperty('voice', voices[2].id)\n",
    "    engine.setProperty(\"rate\", 155)\n",
    "    engine.runAndWait() ;"
   ]
  },
  {
   "cell_type": "code",
   "execution_count": null,
   "metadata": {},
   "outputs": [],
   "source": [
    "name = 'Saeed'"
   ]
  },
  {
   "cell_type": "markdown",
   "metadata": {},
   "source": [
    "open an ifc file"
   ]
  },
  {
   "cell_type": "code",
   "execution_count": null,
   "metadata": {},
   "outputs": [],
   "source": [
    "tts (f' , How can I help you {name}')"
   ]
  },
  {
   "cell_type": "code",
   "execution_count": null,
   "metadata": {},
   "outputs": [],
   "source": [
    "command_text = get_voice()\n",
    "command_text"
   ]
  },
  {
   "cell_type": "code",
   "execution_count": null,
   "metadata": {},
   "outputs": [],
   "source": [
    "commands = [\"open\",\"create\",\"change\", \"name\", \"description\", \"global id\" \"Red\",\"Blue\",\"Black\"]\n",
    "colors = [\"red\",\"blue\",\"black\"]\n"
   ]
  },
  {
   "cell_type": "code",
   "execution_count": null,
   "metadata": {},
   "outputs": [],
   "source": [
    "command_ = [x for x in commands if x in command_text]"
   ]
  },
  {
   "cell_type": "code",
   "execution_count": null,
   "metadata": {},
   "outputs": [],
   "source": [
    "tts (f' Ok, I will {command_}')"
   ]
  },
  {
   "cell_type": "code",
   "execution_count": null,
   "metadata": {},
   "outputs": [],
   "source": [
    "ifc_model_text = open(\"ifcmodeltext.txt\", \"a+\")"
   ]
  },
  {
   "cell_type": "code",
   "execution_count": null,
   "metadata": {},
   "outputs": [],
   "source": [
    "import webbrowser\n",
    "webbrowser.open(\"ifcmodeltext.txt\")"
   ]
  },
  {
   "cell_type": "markdown",
   "metadata": {},
   "source": [
    "report the name of the elements"
   ]
  },
  {
   "cell_type": "code",
   "execution_count": null,
   "metadata": {},
   "outputs": [],
   "source": [
    "command_text = get_voice()\n",
    "command_text\n",
    "command_ = [x for x in commands if x in command_text]\n",
    "tts (f' Ok, I will give you the {command_}')"
   ]
  },
  {
   "cell_type": "code",
   "execution_count": null,
   "metadata": {},
   "outputs": [],
   "source": [
    "wall_name = wall.Name"
   ]
  },
  {
   "cell_type": "code",
   "execution_count": null,
   "metadata": {},
   "outputs": [],
   "source": [
    "tts (f' the name of the element is {wall_name}')"
   ]
  },
  {
   "cell_type": "markdown",
   "metadata": {},
   "source": [
    "report the description of the elements"
   ]
  },
  {
   "cell_type": "code",
   "execution_count": null,
   "metadata": {},
   "outputs": [],
   "source": [
    "command_text = get_voice()\n",
    "command_text\n",
    "command_ = [x for x in commands if x in command_text]\n",
    "tts (f' Ok, I will give you the {command_}')"
   ]
  },
  {
   "cell_type": "code",
   "execution_count": null,
   "metadata": {},
   "outputs": [],
   "source": [
    "wall_description = wall.Description\n",
    "tts (f' wall description is {wall_description}')"
   ]
  },
  {
   "cell_type": "markdown",
   "metadata": {},
   "source": [
    "create an ifc file\n"
   ]
  },
  {
   "cell_type": "markdown",
   "metadata": {},
   "source": [
    "create a wall"
   ]
  },
  {
   "cell_type": "markdown",
   "metadata": {},
   "source": [
    "create a window"
   ]
  },
  {
   "cell_type": "markdown",
   "metadata": {},
   "source": [
    "create a door"
   ]
  },
  {
   "cell_type": "markdown",
   "metadata": {},
   "source": [
    "change the color of objects"
   ]
  },
  {
   "cell_type": "markdown",
   "metadata": {},
   "source": [
    "change the size of the viewer"
   ]
  },
  {
   "cell_type": "code",
   "execution_count": null,
   "metadata": {},
   "outputs": [],
   "source": [
    "ifcfile = ifcopenshell.open(\"./one.ifc\")"
   ]
  }
 ],
 "metadata": {
  "interpreter": {
   "hash": "a707b6ce8c685eb936424fcc3009d4b4b7a52543c4db09380a3fc49186ceb509"
  },
  "kernelspec": {
   "display_name": "Python 3.8.8 64-bit ('base': conda)",
   "name": "python3"
  },
  "language_info": {
   "codemirror_mode": {
    "name": "ipython",
    "version": 3
   },
   "file_extension": ".py",
   "mimetype": "text/x-python",
   "name": "python",
   "nbconvert_exporter": "python",
   "pygments_lexer": "ipython3",
   "version": "3.6.13"
  }
 },
 "nbformat": 4,
 "nbformat_minor": 4
}
