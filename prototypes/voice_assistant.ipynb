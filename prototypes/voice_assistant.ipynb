{
 "cells": [
  {
   "cell_type": "code",
   "execution_count": 1,
   "metadata": {},
   "outputs": [],
   "source": [
    "from voice_assistant import VoiceAssistant"
   ]
  },
  {
   "cell_type": "code",
   "execution_count": 20,
   "metadata": {},
   "outputs": [],
   "source": [
    "va = VoiceAssistant()\n",
    "va.voice_to_action()"
   ]
  },
  {
   "cell_type": "code",
   "execution_count": 9,
   "metadata": {},
   "outputs": [
    {
     "data": {
      "text/html": [
       "<iframe src=\"https://ifcjs.github.io/web-ifc-viewer/example/index\" width=\"500\" height=\"300\"></iframe>\n"
      ],
      "text/plain": [
       "<IPython.core.display.HTML object>"
      ]
     },
     "metadata": {},
     "output_type": "display_data"
    }
   ],
   "source": [
    "%%html\n",
    "<iframe src=\"https://ifcjs.github.io/web-ifc-viewer/example/index\" width=\"500\" height=\"300\"></iframe>"
   ]
  }
 ],
 "metadata": {
  "interpreter": {
   "hash": "5929598a8d61c44ccd521b0442ce2fff89777ecc3c6a7d5730a5eceb1b6a08be"
  },
  "kernelspec": {
   "display_name": "Python 3.6.13 64-bit ('va': conda)",
   "language": "python",
   "name": "python3"
  },
  "language_info": {
   "codemirror_mode": {
    "name": "ipython",
    "version": 3
   },
   "file_extension": ".py",
   "mimetype": "text/x-python",
   "name": "python",
   "nbconvert_exporter": "python",
   "pygments_lexer": "ipython3",
   "version": "3.6.13"
  },
  "orig_nbformat": 4
 },
 "nbformat": 4,
 "nbformat_minor": 2
}
