{
 "cells": [
  {
   "cell_type": "code",
   "execution_count": null,
   "metadata": {},
   "outputs": [],
   "source": [
    "from utiles import Utiles\n",
    "Utiles.button()"
   ]
  },
  {
   "cell_type": "code",
   "execution_count": null,
   "metadata": {},
   "outputs": [],
   "source": [
    "from voice_assistant import VoiceAssistant\n",
    "\n",
    "import ipywidgets as widgets\n",
    "from IPython.display import display\n",
    "\n",
    "button = widgets.Button(description=\"Click me!\")\n",
    "output = widgets.Output()\n",
    "display(button, output)\n",
    "def on_button_clicked(b):\n",
    "    with output:\n",
    "        va = VoiceAssistant()\n",
    "        # va.raw_text_init = 'give me a report'\n",
    "        va.voice_to_action()\n",
    "button.on_click(on_button_clicked)"
   ]
  },
  {
   "cell_type": "code",
   "execution_count": null,
   "metadata": {},
   "outputs": [],
   "source": [
    "%%html\n",
    "<iframe src=\"https://ifcjs.github.io/web-ifc-viewer/example/index\" width=\"500\" height=\"300\"></iframe>\n",
    "\n",
    "# import { IFCLoader } from \"web-ifc-three/IFCLoader\";\n",
    "\n",
    "# const ifcLoader = new IFCLoader();\n",
    "# ifcLoader.load(\n",
    "#     \"models/Example_model.ifc\",\n",
    "#     (ifcModel) => scene.add(ifcModel.mesh));"
   ]
  }
 ],
 "metadata": {
  "interpreter": {
   "hash": "5929598a8d61c44ccd521b0442ce2fff89777ecc3c6a7d5730a5eceb1b6a08be"
  },
  "kernelspec": {
   "display_name": "Python 3.6.13 64-bit ('va': conda)",
   "language": "python",
   "name": "python3"
  },
  "language_info": {
   "codemirror_mode": {
    "name": "ipython",
    "version": 3
   },
   "file_extension": ".py",
   "mimetype": "text/x-python",
   "name": "python",
   "nbconvert_exporter": "python",
   "pygments_lexer": "ipython3",
   "version": "3.6.13"
  },
  "orig_nbformat": 4
 },
 "nbformat": 4,
 "nbformat_minor": 2
}
