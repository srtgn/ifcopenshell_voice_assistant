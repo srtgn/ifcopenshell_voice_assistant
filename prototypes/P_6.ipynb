{
 "cells": [
  {
   "cell_type": "markdown",
   "metadata": {},
   "source": [
    "# IFC OpenShell Voice Assistant-Prototype\n",
    "This version of IFC Voice Assistant allows you to create wall, window and door. <br>\n",
    "To be able to use the code please insert a file path to opening IfcOpenShell column.<br>\n",
    "And run all the codes one by one."
   ]
  },
  {
   "cell_type": "markdown",
   "metadata": {},
   "source": [
    "#### Example #1 Opening the ifc file \n",
    "https://academy.ifcopenshell.org/posts/creating-a-simple-wall-with-property-set-and-quantity-information/"
   ]
  },
  {
   "cell_type": "code",
   "execution_count": 50,
   "metadata": {},
   "outputs": [],
   "source": [
    "# import this modules for ifcopenshell commands and voice recognition\n",
    "import ifcopenshell\n",
    "import numpy\n",
    "import apiai\n",
    "import speech_recognition as sr"
   ]
  },
  {
   "cell_type": "code",
   "execution_count": 62,
   "metadata": {},
   "outputs": [
    {
     "ename": "KeyboardInterrupt",
     "evalue": "",
     "output_type": "error",
     "traceback": [
      "\u001b[1;31m---------------------------------------------------------------------------\u001b[0m",
      "\u001b[1;31mKeyboardInterrupt\u001b[0m                         Traceback (most recent call last)",
      "\u001b[1;32m<ipython-input-62-7c9debdc7aa3>\u001b[0m in \u001b[0;36m<module>\u001b[1;34m\u001b[0m\n\u001b[0;32m      4\u001b[0m \u001b[1;32mwith\u001b[0m \u001b[0mmic\u001b[0m \u001b[1;32mas\u001b[0m \u001b[0msource\u001b[0m\u001b[1;33m:\u001b[0m\u001b[1;33m\u001b[0m\u001b[1;33m\u001b[0m\u001b[0m\n\u001b[0;32m      5\u001b[0m     \u001b[0mr\u001b[0m\u001b[1;33m.\u001b[0m\u001b[0madjust_for_ambient_noise\u001b[0m\u001b[1;33m(\u001b[0m\u001b[0msource\u001b[0m\u001b[1;33m,\u001b[0m \u001b[0mduration\u001b[0m\u001b[1;33m=\u001b[0m\u001b[1;36m1\u001b[0m\u001b[1;33m)\u001b[0m\u001b[1;33m\u001b[0m\u001b[1;33m\u001b[0m\u001b[0m\n\u001b[1;32m----> 6\u001b[1;33m     \u001b[0maudio\u001b[0m \u001b[1;33m=\u001b[0m \u001b[0mr\u001b[0m\u001b[1;33m.\u001b[0m\u001b[0mlisten\u001b[0m\u001b[1;33m(\u001b[0m\u001b[0msource\u001b[0m\u001b[1;33m)\u001b[0m\u001b[1;33m\u001b[0m\u001b[1;33m\u001b[0m\u001b[0m\n\u001b[0m\u001b[0;32m      7\u001b[0m \u001b[1;33m\u001b[0m\u001b[0m\n\u001b[0;32m      8\u001b[0m \u001b[0mr\u001b[0m\u001b[1;33m.\u001b[0m\u001b[0mrecognize_google\u001b[0m\u001b[1;33m(\u001b[0m\u001b[0maudio\u001b[0m\u001b[1;33m)\u001b[0m\u001b[1;33m\u001b[0m\u001b[1;33m\u001b[0m\u001b[0m\n",
      "\u001b[1;32mC:\\tools\\Anaconda3\\lib\\site-packages\\speech_recognition\\__init__.py\u001b[0m in \u001b[0;36mlisten\u001b[1;34m(self, source, timeout, phrase_time_limit, snowboy_configuration)\u001b[0m\n\u001b[0;32m    650\u001b[0m                     \u001b[1;32mbreak\u001b[0m\u001b[1;33m\u001b[0m\u001b[1;33m\u001b[0m\u001b[0m\n\u001b[0;32m    651\u001b[0m \u001b[1;33m\u001b[0m\u001b[0m\n\u001b[1;32m--> 652\u001b[1;33m                 \u001b[0mbuffer\u001b[0m \u001b[1;33m=\u001b[0m \u001b[0msource\u001b[0m\u001b[1;33m.\u001b[0m\u001b[0mstream\u001b[0m\u001b[1;33m.\u001b[0m\u001b[0mread\u001b[0m\u001b[1;33m(\u001b[0m\u001b[0msource\u001b[0m\u001b[1;33m.\u001b[0m\u001b[0mCHUNK\u001b[0m\u001b[1;33m)\u001b[0m\u001b[1;33m\u001b[0m\u001b[1;33m\u001b[0m\u001b[0m\n\u001b[0m\u001b[0;32m    653\u001b[0m                 \u001b[1;32mif\u001b[0m \u001b[0mlen\u001b[0m\u001b[1;33m(\u001b[0m\u001b[0mbuffer\u001b[0m\u001b[1;33m)\u001b[0m \u001b[1;33m==\u001b[0m \u001b[1;36m0\u001b[0m\u001b[1;33m:\u001b[0m \u001b[1;32mbreak\u001b[0m  \u001b[1;31m# reached end of the stream\u001b[0m\u001b[1;33m\u001b[0m\u001b[1;33m\u001b[0m\u001b[0m\n\u001b[0;32m    654\u001b[0m                 \u001b[0mframes\u001b[0m\u001b[1;33m.\u001b[0m\u001b[0mappend\u001b[0m\u001b[1;33m(\u001b[0m\u001b[0mbuffer\u001b[0m\u001b[1;33m)\u001b[0m\u001b[1;33m\u001b[0m\u001b[1;33m\u001b[0m\u001b[0m\n",
      "\u001b[1;32mC:\\tools\\Anaconda3\\lib\\site-packages\\speech_recognition\\__init__.py\u001b[0m in \u001b[0;36mread\u001b[1;34m(self, size)\u001b[0m\n\u001b[0;32m    159\u001b[0m \u001b[1;33m\u001b[0m\u001b[0m\n\u001b[0;32m    160\u001b[0m         \u001b[1;32mdef\u001b[0m \u001b[0mread\u001b[0m\u001b[1;33m(\u001b[0m\u001b[0mself\u001b[0m\u001b[1;33m,\u001b[0m \u001b[0msize\u001b[0m\u001b[1;33m)\u001b[0m\u001b[1;33m:\u001b[0m\u001b[1;33m\u001b[0m\u001b[1;33m\u001b[0m\u001b[0m\n\u001b[1;32m--> 161\u001b[1;33m             \u001b[1;32mreturn\u001b[0m \u001b[0mself\u001b[0m\u001b[1;33m.\u001b[0m\u001b[0mpyaudio_stream\u001b[0m\u001b[1;33m.\u001b[0m\u001b[0mread\u001b[0m\u001b[1;33m(\u001b[0m\u001b[0msize\u001b[0m\u001b[1;33m,\u001b[0m \u001b[0mexception_on_overflow\u001b[0m\u001b[1;33m=\u001b[0m\u001b[1;32mFalse\u001b[0m\u001b[1;33m)\u001b[0m\u001b[1;33m\u001b[0m\u001b[1;33m\u001b[0m\u001b[0m\n\u001b[0m\u001b[0;32m    162\u001b[0m \u001b[1;33m\u001b[0m\u001b[0m\n\u001b[0;32m    163\u001b[0m         \u001b[1;32mdef\u001b[0m \u001b[0mclose\u001b[0m\u001b[1;33m(\u001b[0m\u001b[0mself\u001b[0m\u001b[1;33m)\u001b[0m\u001b[1;33m:\u001b[0m\u001b[1;33m\u001b[0m\u001b[1;33m\u001b[0m\u001b[0m\n",
      "\u001b[1;32mC:\\tools\\Anaconda3\\lib\\site-packages\\pyaudio.py\u001b[0m in \u001b[0;36mread\u001b[1;34m(self, num_frames, exception_on_overflow)\u001b[0m\n\u001b[0;32m    606\u001b[0m                           paCanNotReadFromAnOutputOnlyStream)\n\u001b[0;32m    607\u001b[0m \u001b[1;33m\u001b[0m\u001b[0m\n\u001b[1;32m--> 608\u001b[1;33m         \u001b[1;32mreturn\u001b[0m \u001b[0mpa\u001b[0m\u001b[1;33m.\u001b[0m\u001b[0mread_stream\u001b[0m\u001b[1;33m(\u001b[0m\u001b[0mself\u001b[0m\u001b[1;33m.\u001b[0m\u001b[0m_stream\u001b[0m\u001b[1;33m,\u001b[0m \u001b[0mnum_frames\u001b[0m\u001b[1;33m,\u001b[0m \u001b[0mexception_on_overflow\u001b[0m\u001b[1;33m)\u001b[0m\u001b[1;33m\u001b[0m\u001b[1;33m\u001b[0m\u001b[0m\n\u001b[0m\u001b[0;32m    609\u001b[0m \u001b[1;33m\u001b[0m\u001b[0m\n\u001b[0;32m    610\u001b[0m     \u001b[1;32mdef\u001b[0m \u001b[0mget_read_available\u001b[0m\u001b[1;33m(\u001b[0m\u001b[0mself\u001b[0m\u001b[1;33m)\u001b[0m\u001b[1;33m:\u001b[0m\u001b[1;33m\u001b[0m\u001b[1;33m\u001b[0m\u001b[0m\n",
      "\u001b[1;31mKeyboardInterrupt\u001b[0m: "
     ]
    }
   ],
   "source": [
    "# Run and Google will start to listen you, tell us what you want to do \n",
    "r = sr.Recognizer()\n",
    "mic = sr.Microphone()\n",
    "with mic as source:\n",
    "    r.adjust_for_ambient_noise(source, duration=1)\n",
    "    audio = r.listen(source)\n",
    "    \n",
    "r.recognize_google(audio)"
   ]
  },
  {
   "cell_type": "code",
   "execution_count": 48,
   "metadata": {},
   "outputs": [],
   "source": [
    "from gtts import gTTS \n",
    "import os\n",
    "text = 'Global warming is the long-term rise in the average temperature of the Earth’s climate system'\n",
    "language = 'en'\n",
    "speech = gTTS(text = text, lang = language, slow = False)\n",
    "speech.save('start text.mp3')\n"
   ]
  },
  {
   "cell_type": "code",
   "execution_count": 49,
   "metadata": {},
   "outputs": [
    {
     "data": {
      "text/plain": [
       "1"
      ]
     },
     "execution_count": 49,
     "metadata": {},
     "output_type": "execute_result"
    }
   ],
   "source": [
    "os.system('start text.mp3')"
   ]
  },
  {
   "cell_type": "markdown",
   "metadata": {},
   "source": [
    "open an ifc file"
   ]
  },
  {
   "cell_type": "markdown",
   "metadata": {},
   "source": [
    "create an ifc file\n"
   ]
  },
  {
   "cell_type": "markdown",
   "metadata": {},
   "source": [
    "create a wall"
   ]
  },
  {
   "cell_type": "markdown",
   "metadata": {},
   "source": [
    "create a window"
   ]
  },
  {
   "cell_type": "markdown",
   "metadata": {},
   "source": [
    "create a door"
   ]
  },
  {
   "cell_type": "markdown",
   "metadata": {},
   "source": [
    "change the color of objects"
   ]
  },
  {
   "cell_type": "markdown",
   "metadata": {},
   "source": [
    "change the size of the viewer"
   ]
  },
  {
   "cell_type": "code",
   "execution_count": 14,
   "metadata": {},
   "outputs": [],
   "source": [
    "ifcfile = ifcopenshell.open(\"./one.ifc\")"
   ]
  },
  {
   "cell_type": "code",
   "execution_count": 39,
   "metadata": {},
   "outputs": [],
   "source": [
    "ifc_model_text = open(\"ifcmodeltext.txt\", \"a+\")"
   ]
  },
  {
   "cell_type": "code",
   "execution_count": 40,
   "metadata": {},
   "outputs": [
    {
     "data": {
      "text/plain": [
       "True"
      ]
     },
     "execution_count": 40,
     "metadata": {},
     "output_type": "execute_result"
    }
   ],
   "source": [
    "\n",
    "import webbrowser\n",
    "webbrowser.open(\"ifcmodeltext.txt\")\n",
    "#webbrowser.open(\"./one.ifc\")\n",
    "\n",
    "#ifc_model_text.write(\"Appended line %d\\r\\n\" % (i+1))"
   ]
  },
  {
   "cell_type": "code",
   "execution_count": null,
   "metadata": {},
   "outputs": [],
   "source": [
    "ifc_model_text = open(\"ifcmodeltext.txt\", \"a+\")\n"
   ]
  },
  {
   "cell_type": "code",
   "execution_count": null,
   "metadata": {},
   "outputs": [],
   "source": [
    "import webbrowser\n",
    "webbrowser.open(\"ifcmodeltext.txt\")\n",
    "#webbrowser.open(\"./one.ifc\")\n",
    "\n",
    "#ifc_model_text.write(\"Appended line %d\\r\\n\" % (i+1))"
   ]
  },
  {
   "cell_type": "code",
   "execution_count": 63,
   "metadata": {},
   "outputs": [
    {
     "ename": "KeyboardInterrupt",
     "evalue": "Interrupted by user",
     "output_type": "error",
     "traceback": [
      "\u001b[1;31m---------------------------------------------------------------------------\u001b[0m",
      "\u001b[1;31mKeyboardInterrupt\u001b[0m                         Traceback (most recent call last)",
      "\u001b[1;32m<ipython-input-63-5ebb9066f4c0>\u001b[0m in \u001b[0;36m<module>\u001b[1;34m\u001b[0m\n\u001b[0;32m      1\u001b[0m \u001b[1;31m#Wall inputs needed\u001b[0m\u001b[1;33m\u001b[0m\u001b[1;33m\u001b[0m\u001b[1;33m\u001b[0m\u001b[0m\n\u001b[1;32m----> 2\u001b[1;33m \u001b[0mx_dimension\u001b[0m \u001b[1;33m=\u001b[0m \u001b[0mfloat\u001b[0m\u001b[1;33m(\u001b[0m\u001b[0minput\u001b[0m\u001b[1;33m(\u001b[0m\u001b[1;34m\"Please enter X dimension\\n\"\u001b[0m\u001b[1;33m)\u001b[0m\u001b[1;33m)\u001b[0m\u001b[1;33m\u001b[0m\u001b[1;33m\u001b[0m\u001b[0m\n\u001b[0m\u001b[0;32m      3\u001b[0m \u001b[0my_dimension\u001b[0m \u001b[1;33m=\u001b[0m \u001b[0mfloat\u001b[0m\u001b[1;33m(\u001b[0m\u001b[0minput\u001b[0m\u001b[1;33m(\u001b[0m\u001b[1;34m\"Please enter Y dimension\\n\"\u001b[0m\u001b[1;33m)\u001b[0m\u001b[1;33m)\u001b[0m\u001b[1;33m\u001b[0m\u001b[1;33m\u001b[0m\u001b[0m\n\u001b[0;32m      4\u001b[0m \u001b[0mz_dimension\u001b[0m \u001b[1;33m=\u001b[0m \u001b[0mfloat\u001b[0m\u001b[1;33m(\u001b[0m\u001b[0minput\u001b[0m\u001b[1;33m(\u001b[0m\u001b[1;34m\"Please enter the height\\n\"\u001b[0m\u001b[1;33m)\u001b[0m\u001b[1;33m)\u001b[0m\u001b[1;33m\u001b[0m\u001b[1;33m\u001b[0m\u001b[0m\n\u001b[0;32m      5\u001b[0m \u001b[0mclosest_to_origin_point\u001b[0m \u001b[1;33m=\u001b[0m \u001b[0minput\u001b[0m\u001b[1;33m(\u001b[0m\u001b[1;34m\"Please enter the center point\\n\"\u001b[0m\u001b[1;33m)\u001b[0m\u001b[1;33m\u001b[0m\u001b[1;33m\u001b[0m\u001b[0m\n",
      "\u001b[1;32mC:\\tools\\Anaconda3\\lib\\site-packages\\ipykernel\\kernelbase.py\u001b[0m in \u001b[0;36mraw_input\u001b[1;34m(self, prompt)\u001b[0m\n\u001b[0;32m    858\u001b[0m                 \u001b[1;34m\"raw_input was called, but this frontend does not support input requests.\"\u001b[0m\u001b[1;33m\u001b[0m\u001b[1;33m\u001b[0m\u001b[0m\n\u001b[0;32m    859\u001b[0m             )\n\u001b[1;32m--> 860\u001b[1;33m         return self._input_request(str(prompt),\n\u001b[0m\u001b[0;32m    861\u001b[0m             \u001b[0mself\u001b[0m\u001b[1;33m.\u001b[0m\u001b[0m_parent_ident\u001b[0m\u001b[1;33m,\u001b[0m\u001b[1;33m\u001b[0m\u001b[1;33m\u001b[0m\u001b[0m\n\u001b[0;32m    862\u001b[0m             \u001b[0mself\u001b[0m\u001b[1;33m.\u001b[0m\u001b[0m_parent_header\u001b[0m\u001b[1;33m,\u001b[0m\u001b[1;33m\u001b[0m\u001b[1;33m\u001b[0m\u001b[0m\n",
      "\u001b[1;32mC:\\tools\\Anaconda3\\lib\\site-packages\\ipykernel\\kernelbase.py\u001b[0m in \u001b[0;36m_input_request\u001b[1;34m(self, prompt, ident, parent, password)\u001b[0m\n\u001b[0;32m    902\u001b[0m             \u001b[1;32mexcept\u001b[0m \u001b[0mKeyboardInterrupt\u001b[0m\u001b[1;33m:\u001b[0m\u001b[1;33m\u001b[0m\u001b[1;33m\u001b[0m\u001b[0m\n\u001b[0;32m    903\u001b[0m                 \u001b[1;31m# re-raise KeyboardInterrupt, to truncate traceback\u001b[0m\u001b[1;33m\u001b[0m\u001b[1;33m\u001b[0m\u001b[1;33m\u001b[0m\u001b[0m\n\u001b[1;32m--> 904\u001b[1;33m                 \u001b[1;32mraise\u001b[0m \u001b[0mKeyboardInterrupt\u001b[0m\u001b[1;33m(\u001b[0m\u001b[1;34m\"Interrupted by user\"\u001b[0m\u001b[1;33m)\u001b[0m \u001b[1;32mfrom\u001b[0m \u001b[1;32mNone\u001b[0m\u001b[1;33m\u001b[0m\u001b[1;33m\u001b[0m\u001b[0m\n\u001b[0m\u001b[0;32m    905\u001b[0m             \u001b[1;32mexcept\u001b[0m \u001b[0mException\u001b[0m \u001b[1;32mas\u001b[0m \u001b[0me\u001b[0m\u001b[1;33m:\u001b[0m\u001b[1;33m\u001b[0m\u001b[1;33m\u001b[0m\u001b[0m\n\u001b[0;32m    906\u001b[0m                 \u001b[0mself\u001b[0m\u001b[1;33m.\u001b[0m\u001b[0mlog\u001b[0m\u001b[1;33m.\u001b[0m\u001b[0mwarning\u001b[0m\u001b[1;33m(\u001b[0m\u001b[1;34m\"Invalid Message:\"\u001b[0m\u001b[1;33m,\u001b[0m \u001b[0mexc_info\u001b[0m\u001b[1;33m=\u001b[0m\u001b[1;32mTrue\u001b[0m\u001b[1;33m)\u001b[0m\u001b[1;33m\u001b[0m\u001b[1;33m\u001b[0m\u001b[0m\n",
      "\u001b[1;31mKeyboardInterrupt\u001b[0m: Interrupted by user"
     ]
    }
   ],
   "source": [
    "#Wall inputs needed\n",
    "x_dimension = float(input(\"Please enter X dimension\\n\"))\n",
    "y_dimension = float(input(\"Please enter Y dimension\\n\"))\n",
    "z_dimension = float(input(\"Please enter the height\\n\"))\n",
    "closest_to_origin_point = input(\"Please enter the center point\\n\")\n",
    "def Convert(string):\n",
    "    closest_point = list(string.split(\" \"))\n",
    "    return closest_point\n",
    "closest_point = (Convert(closest_to_origin_point))\n",
    "origin_x = float(closest_point[0])\n",
    "origin_y = float(closest_point[1])\n",
    "point_list_extrusion_area = [(origin_x, origin_y), (x_dimension + origin_x, origin_y), (x_dimension + origin_x, y_dimension + origin_y), (origin_x, y_dimension), (origin_x, origin_y)]\n",
    "print(point_list_extrusion_area)\n",
    "if x_dimension > y_dimension:\n",
    "    polyline_points = [(origin_x, origin_y+y_dimension/2), (origin_x + x_dimension, origin_y+y_dimension/2)]\n",
    "if x_dimension < y_dimension:\n",
    "    polyline_points = [(origin_x+x_dimension/2, origin_y), (origin_x+x_dimension/2), origin_y+y_dimension]"
   ]
  },
  {
   "cell_type": "code",
   "execution_count": 26,
   "metadata": {},
   "outputs": [],
   "source": [
    "import uuid\n",
    "import time\n",
    "import tempfile\n",
    "import ifcopenshell\n"
   ]
  },
  {
   "cell_type": "markdown",
   "metadata": {},
   "source": [
    "#### Example #1 Opening the ifc file \n",
    "https://academy.ifcopenshell.org/posts/creating-a-simple-wall-with-property-set-and-quantity-information/"
   ]
  },
  {
   "cell_type": "code",
   "execution_count": 51,
   "metadata": {},
   "outputs": [],
   "source": [
    "O = 0., 0., 0.\n",
    "X = 1., 0., 0.\n",
    "Y = 0., 1., 0.\n",
    "Z = 0., 0., 1."
   ]
  },
  {
   "cell_type": "code",
   "execution_count": 52,
   "metadata": {},
   "outputs": [],
   "source": [
    "# Helper function definitions\n",
    "\n",
    "# Creates an IfcAxis2Placement3D from Location, Axis and RefDirection specified as Python tuples\n",
    "def create_ifcaxis2placement(ifcfile, point=O, dir1=Z, dir2=X):\n",
    "    point = ifcfile.createIfcCartesianPoint(point)\n",
    "    dir1 = ifcfile.createIfcDirection(dir1)\n",
    "    dir2 = ifcfile.createIfcDirection(dir2)\n",
    "    axis2placement = ifcfile.createIfcAxis2Placement3D(point, dir1, dir2)\n",
    "    return axis2placement\n",
    "\n",
    "# Creates an IfcLocalPlacement from Location, Axis and RefDirection, specified as Python tuples, and relative placement\n",
    "def create_ifclocalplacement(ifcfile, point=O, dir1=Z, dir2=X, relative_to=None):\n",
    "    axis2placement = create_ifcaxis2placement(ifcfile,point,dir1,dir2)\n",
    "    ifclocalplacement2 = ifcfile.createIfcLocalPlacement(relative_to,axis2placement)\n",
    "    return ifclocalplacement2\n",
    "\n",
    "# Creates an IfcPolyLine from a list of points, specified as Python tuples\n",
    "def create_ifcpolyline(ifcfile, point_list):\n",
    "    ifcpts = []\n",
    "    for point in point_list:\n",
    "        point = ifcfile.createIfcCartesianPoint(point)\n",
    "        ifcpts.append(point)\n",
    "    polyline = ifcfile.createIfcPolyLine(ifcpts)\n",
    "    return polyline\n",
    "    \n",
    "# Creates an IfcExtrudedAreaSolid from a list of points, specified as Python tuples\n",
    "def create_ifcextrudedareasolid(ifcfile, point_list, ifcaxis2placement, extrude_dir, extrusion):\n",
    "    polyline = create_ifcpolyline(ifcfile, point_list)\n",
    "    ifcclosedprofile = ifcfile.createIfcArbitraryClosedProfileDef(\"AREA\", None, polyline)\n",
    "    ifcdir = ifcfile.createIfcDirection(extrude_dir)\n",
    "    ifcextrudedareasolid = ifcfile.createIfcExtrudedAreaSolid(ifcclosedprofile, ifcaxis2placement, ifcdir, extrusion)\n",
    "    return ifcextrudedareasolid\n",
    "    \n",
    "create_guid = lambda: ifcopenshell.guid.compress(uuid.uuid1().hex)\n"
   ]
  },
  {
   "cell_type": "code",
   "execution_count": 53,
   "metadata": {},
   "outputs": [],
   "source": [
    "# IFC template creation\n",
    "\n",
    "filename = \"hello_wall_P_5.ifc\"\n",
    "timestamp = time.time()\n",
    "timestring = time.strftime(\"%Y-%m-%dT%H:%M:%S\", time.gmtime(timestamp))\n",
    "creator = \"Kianwee Chen\"\n",
    "organization = \"ETHZ\"\n",
    "application, application_version = \"IfcOpenShell\", \"0.5\"\n",
    "project_globalid, project_name = create_guid(), \"Hello Wall\"\n",
    "    \n",
    "# A template IFC file to quickly populate entity instances for an IfcProject with its dependencies\n",
    "template = \"\"\"ISO-10303-21;\n",
    "HEADER;\n",
    "FILE_DESCRIPTION(('ViewDefinition [CoordinationView]'),'2;1');\n",
    "FILE_NAME('%(filename)s','%(timestring)s',('%(creator)s'),('%(organization)s'),'%(application)s','%(application)s','');\n",
    "FILE_SCHEMA(('IFC2X3'));\n",
    "ENDSEC;\n",
    "DATA;\n",
    "#1=IFCPERSON($,$,'%(creator)s',$,$,$,$,$);\n",
    "#2=IFCORGANIZATION($,'%(organization)s',$,$,$);\n",
    "#3=IFCPERSONANDORGANIZATION(#1,#2,$);\n",
    "#4=IFCAPPLICATION(#2,'%(application_version)s','%(application)s','');\n",
    "#5=IFCOWNERHISTORY(#3,#4,$,.ADDED.,$,#3,#4,%(timestamp)s);\n",
    "#6=IFCDIRECTION((1.,0.,0.));\n",
    "#7=IFCDIRECTION((0.,0.,1.));\n",
    "#8=IFCCARTESIANPOINT((0.,0.,0.));\n",
    "#9=IFCAXIS2PLACEMENT3D(#8,#7,#6);\n",
    "#10=IFCDIRECTION((0.,1.,0.));\n",
    "#11=IFCGEOMETRICREPRESENTATIONCONTEXT($,'Model',3,1.E-05,#9,#10);\n",
    "#12=IFCDIMENSIONALEXPONENTS(0,0,0,0,0,0,0);\n",
    "#13=IFCSIUNIT(*,.LENGTHUNIT.,$,.METRE.);\n",
    "#14=IFCSIUNIT(*,.AREAUNIT.,$,.SQUARE_METRE.);\n",
    "#15=IFCSIUNIT(*,.VOLUMEUNIT.,$,.CUBIC_METRE.);\n",
    "#16=IFCSIUNIT(*,.PLANEANGLEUNIT.,$,.RADIAN.);\n",
    "#17=IFCMEASUREWITHUNIT(IFCPLANEANGLEMEASURE(0.017453292519943295),#16);\n",
    "#18=IFCCONVERSIONBASEDUNIT(#12,.PLANEANGLEUNIT.,'DEGREE',#17);\n",
    "#19=IFCUNITASSIGNMENT((#13,#14,#15,#18));\n",
    "#20=IFCPROJECT('%(project_globalid)s',#5,'%(project_name)s',$,$,$,$,(#11),#19);\n",
    "ENDSEC;\n",
    "END-ISO-10303-21;\n",
    "\"\"\" % locals()\n",
    "\n",
    "# Write the template to a temporary file \n",
    "temp_handle, temp_filename = tempfile.mkstemp(suffix=\".ifc\")\n",
    "with open(temp_filename, \"w+\") as f:\n",
    "    f.write(template)\n",
    " \n",
    "# Obtain references to instances defined in template\n",
    "ifcfile = ifcopenshell.open(temp_filename)\n",
    "owner_history = ifcfile.by_type(\"IfcOwnerHistory\")[0]\n",
    "project = ifcfile.by_type(\"IfcProject\")[0]\n",
    "context = ifcfile.by_type(\"IfcGeometricRepresentationContext\")[0]\n"
   ]
  },
  {
   "cell_type": "code",
   "execution_count": 54,
   "metadata": {},
   "outputs": [],
   "source": [
    "# IFC hierarchy creation\n",
    "site_placement = create_ifclocalplacement(ifcfile)\n",
    "site = ifcfile.createIfcSite(create_guid(), owner_history, \"Site\", None, None, site_placement, None, None, \"ELEMENT\", None, None, None, None, None)\n",
    "\n",
    "building_placement = create_ifclocalplacement(ifcfile, relative_to=site_placement)\n",
    "building = ifcfile.createIfcBuilding(create_guid(), owner_history, 'Building', None, None, building_placement, None, None, \"ELEMENT\", None, None, None)\n",
    "\n",
    "storey_placement = create_ifclocalplacement(ifcfile, relative_to=building_placement)\n",
    "elevation = 0.0\n",
    "building_storey = ifcfile.createIfcBuildingStorey(create_guid(), owner_history, 'Storey', None, None, storey_placement, None, None, \"ELEMENT\", elevation)\n",
    "\n",
    "container_storey = ifcfile.createIfcRelAggregates(create_guid(), owner_history, \"Building Container\", None, building, [building_storey])\n",
    "container_site = ifcfile.createIfcRelAggregates(create_guid(), owner_history, \"Site Container\", None, site, [building])\n",
    "container_project = ifcfile.createIfcRelAggregates(create_guid(), owner_history, \"Project Container\", None, project, [site])\n"
   ]
  },
  {
   "cell_type": "code",
   "execution_count": 55,
   "metadata": {},
   "outputs": [],
   "source": [
    "# Wall creation: Define the wall shape as a polyline axis and an extruded area solid\n",
    "wall_placement = create_ifclocalplacement(ifcfile, relative_to=storey_placement)\n",
    "polyline = create_ifcpolyline(ifcfile, polyline_points)\n",
    "axis_representation = ifcfile.createIfcShapeRepresentation(context, \"Axis\", \"Curve2D\", [polyline])\n",
    "\n",
    "extrusion_placement = create_ifcaxis2placement(ifcfile, (0.0, 0.0, 0.0), (0.0, 0.0, 1.0), (1.0, 0.0, 0.0))\n",
    "#point_list_extrusion_area = [(0.0, -0.1, 0.0), (5.0, -0.1, 0.0), (5.0, 0.1, 0.0), (0.0, 0.1, 0.0), (0.0, -0.1, 0.0)]\n",
    "solid = create_ifcextrudedareasolid(ifcfile, point_list_extrusion_area, extrusion_placement, (0.0, 0.0, 1.0), z_dimension)\n",
    "body_representation = ifcfile.createIfcShapeRepresentation(context, \"Body\", \"SweptSolid\", [solid])\n",
    "\n",
    "product_shape = ifcfile.createIfcProductDefinitionShape(None, None, [axis_representation, body_representation])\n",
    "\n",
    "wall = ifcfile.createIfcWallStandardCase(create_guid(), owner_history, \"Wall\", \"An awesome wall\", None, wall_placement, product_shape, None)\n"
   ]
  },
  {
   "cell_type": "code",
   "execution_count": 56,
   "metadata": {},
   "outputs": [
    {
     "data": {
      "text/plain": [
       "#82=IfcRelDefinesByProperties('2XNYwjSa8Hx92fO1YL9XKy',#5,$,$,(#66),#81)"
      ]
     },
     "execution_count": 56,
     "metadata": {},
     "output_type": "execute_result"
    }
   ],
   "source": [
    "# Define and associate the wall material\n",
    "material = ifcfile.createIfcMaterial(\"wall material\")\n",
    "material_layer = ifcfile.createIfcMaterialLayer(material, 0.2, None)\n",
    "material_layer_set = ifcfile.createIfcMaterialLayerSet([material_layer], None)\n",
    "material_layer_set_usage = ifcfile.createIfcMaterialLayerSetUsage(material_layer_set, \"AXIS2\", \"POSITIVE\", -0.1)\n",
    "ifcfile.createIfcRelAssociatesMaterial(create_guid(), owner_history, RelatedObjects=[wall], RelatingMaterial=material_layer_set_usage)\n",
    "\n",
    "# Create and assign property set\n",
    "property_values = [\n",
    "    ifcfile.createIfcPropertySingleValue(\"Reference\", \"Reference\", ifcfile.create_entity(\"IfcText\", \"Describe the Reference\"), None),\n",
    "    ifcfile.createIfcPropertySingleValue(\"IsExternal\", \"IsExternal\", ifcfile.create_entity(\"IfcBoolean\", True), None),\n",
    "    ifcfile.createIfcPropertySingleValue(\"ThermalTransmittance\", \"ThermalTransmittance\", ifcfile.create_entity(\"IfcReal\", 2.569), None),\n",
    "    ifcfile.createIfcPropertySingleValue(\"IntValue\", \"IntValue\", ifcfile.create_entity(\"IfcInteger\", 2), None)\n",
    "]\n",
    "property_set = ifcfile.createIfcPropertySet(create_guid(), owner_history, \"Pset_WallCommon\", None, property_values)\n",
    "ifcfile.createIfcRelDefinesByProperties(create_guid(), owner_history, None, None, [wall], property_set)\n",
    "\n",
    "# Add quantity information\n",
    "quantity_values = [\n",
    "    ifcfile.createIfcQuantityLength(\"Length\", \"Length of the wall\", None, 5.0),\n",
    "    ifcfile.createIfcQuantityArea(\"Area\", \"Area of the front face\", None, 5.0 * solid.Depth),\n",
    "    ifcfile.createIfcQuantityVolume(\"Volume\", \"Volume of the wall\", None, 5.0 * solid.Depth * material_layer.LayerThickness)\n",
    "]\n",
    "element_quantity = ifcfile.createIfcElementQuantity(create_guid(), owner_history, \"BaseQuantities\", None, None, quantity_values)\n",
    "ifcfile.createIfcRelDefinesByProperties(create_guid(), owner_history, None, None, [wall], element_quantity)"
   ]
  },
  {
   "cell_type": "code",
   "execution_count": null,
   "metadata": {},
   "outputs": [],
   "source": [
    "#opening inputs needed\n",
    "#define the wall to attach\n",
    "#length and height of the opening\n",
    "#location on wall"
   ]
  },
  {
   "cell_type": "code",
   "execution_count": null,
   "metadata": {},
   "outputs": [],
   "source": [
    "#window inputs needed\n"
   ]
  },
  {
   "cell_type": "code",
   "execution_count": 57,
   "metadata": {},
   "outputs": [
    {
     "data": {
      "text/plain": [
       "#127=IfcRelContainedInSpatialStructure('2YSrKlSa8Hx861O1YL9XKy',#5,'Building Storey Container',$,(#66,#125),#38)"
      ]
     },
     "execution_count": 57,
     "metadata": {},
     "output_type": "execute_result"
    }
   ],
   "source": [
    "# Create and associate an opening for the window in the wall\n",
    "opening_placement = create_ifclocalplacement(ifcfile, (0.5, 0.0, 1.0), (0.0, 0.0, 1.0), (1.0, 0.0, 0.0), wall_placement)\n",
    "opening_extrusion_placement = create_ifcaxis2placement(ifcfile, (0.0, 0.0, 0.0), (0.0, 0.0, 1.0), (1.0, 0.0, 0.0))\n",
    "point_list_opening_extrusion_area = [(0.0, -0.1, 0.0), (3.0, -0.1, 0.0), (3.0, 0.1, 0.0), (0.0, 0.1, 0.0), (0.0, -0.1, 0.0)]\n",
    "opening_solid = create_ifcextrudedareasolid(ifcfile, point_list_opening_extrusion_area, opening_extrusion_placement, (0.0, 0.0, 1.0), 1.0)\n",
    "opening_representation = ifcfile.createIfcShapeRepresentation(context, \"Body\", \"SweptSolid\", [opening_solid])\n",
    "opening_shape = ifcfile.createIfcProductDefinitionShape(None, None, [opening_representation])\n",
    "opening_element = ifcfile.createIfcOpeningElement(create_guid(), owner_history, \"Opening\", \"An awesome opening\", None, opening_placement, opening_shape, None)\n",
    "ifcfile.createIfcRelVoidsElement(create_guid(), owner_history, None, None, wall, opening_element)\n",
    "\n",
    "# Create a simplified representation for the Window\n",
    "window_placement = create_ifclocalplacement(ifcfile, (0.0, 0.0, 0.0), (0.0, 0.0, 1.0), (1.0, 0.0, 0.0), opening_placement)\n",
    "window_extrusion_placement = create_ifcaxis2placement(ifcfile, (0.0, 0.0, 0.0), (0.0, 0.0, 1.0), (1.0, 0.0, 0.0))\n",
    "point_list_window_extrusion_area = [(0.0, -0.01, 0.0), (3.0, -0.01, 0.0), (3.0, 0.01, 0.0), (0.0, 0.01, 0.0), (0.0, -0.01, 0.0)]\n",
    "window_solid = create_ifcextrudedareasolid(ifcfile, point_list_window_extrusion_area, window_extrusion_placement, (0.0, 0.0, 1.0), 1.0)\n",
    "window_representation = ifcfile.createIfcShapeRepresentation(context, \"Body\", \"SweptSolid\", [window_solid])\n",
    "window_shape = ifcfile.createIfcProductDefinitionShape(None, None, [window_representation])\n",
    "window = ifcfile.createIfcWindow(create_guid(), owner_history, \"Window\", \"An awesome window\", None, window_placement, window_shape, None, None)\n",
    "\n",
    "# Relate the window to the opening element\n",
    "ifcfile.createIfcRelFillsElement(create_guid(), owner_history, None, None, opening_element, window)\n",
    "\n",
    "\n",
    "# Relate the window and wall to the building storey\n",
    "ifcfile.createIfcRelContainedInSpatialStructure(create_guid(), owner_history, \"Building Storey Container\", None, [wall, window], building_storey)"
   ]
  },
  {
   "cell_type": "code",
   "execution_count": null,
   "metadata": {},
   "outputs": [],
   "source": []
  },
  {
   "cell_type": "code",
   "execution_count": 58,
   "metadata": {},
   "outputs": [],
   "source": [
    "# Write the contents of the file to disk\n",
    "ifcfile.write(filename)"
   ]
  },
  {
   "cell_type": "code",
   "execution_count": null,
   "metadata": {},
   "outputs": [],
   "source": []
  }
 ],
 "metadata": {
  "interpreter": {
   "hash": "a707b6ce8c685eb936424fcc3009d4b4b7a52543c4db09380a3fc49186ceb509"
  },
  "kernelspec": {
   "display_name": "Python 3.8.8 64-bit ('base': conda)",
   "name": "python3"
  },
  "language_info": {
   "codemirror_mode": {
    "name": "ipython",
    "version": 3
   },
   "file_extension": ".py",
   "mimetype": "text/x-python",
   "name": "python",
   "nbconvert_exporter": "python",
   "pygments_lexer": "ipython3",
   "version": "3.8.8"
  }
 },
 "nbformat": 4,
 "nbformat_minor": 4
}
