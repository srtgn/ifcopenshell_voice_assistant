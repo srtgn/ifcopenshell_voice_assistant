{
 "cells": [
  {
   "cell_type": "code",
   "execution_count": 1,
   "metadata": {},
   "outputs": [],
   "source": [
    "import numpy\n",
    "import matplotlib"
   ]
  }
 ],
 "metadata": {
  "interpreter": {
   "hash": "bb4cab1424fc7b97453461deaa398a390a9b4501d64a005058aa2ec73c9e9c39"
  },
  "kernelspec": {
   "display_name": "Python 3.9.2 64-bit ('bmcs_env': conda)",
   "language": "python",
   "name": "python3"
  },
  "language_info": {
   "codemirror_mode": {
    "name": "ipython",
    "version": 3
   },
   "file_extension": ".py",
   "mimetype": "text/x-python",
   "name": "python",
   "nbconvert_exporter": "python",
   "pygments_lexer": "ipython3",
   "version": "3.9.2"
  },
  "orig_nbformat": 4
 },
 "nbformat": 4,
 "nbformat_minor": 2
}
