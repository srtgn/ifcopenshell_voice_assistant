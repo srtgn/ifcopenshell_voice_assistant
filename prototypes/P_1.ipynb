{
 "cells": [
  {
   "cell_type": "code",
   "execution_count": 1,
   "metadata": {},
   "outputs": [],
   "source": [
    "import numpy\n",
    "import apiai\n",
    "import speech_recognition as sr"
   ]
  },
  {
   "cell_type": "code",
   "execution_count": 2,
   "metadata": {},
   "outputs": [
    {
     "data": {
      "text/plain": [
       "speech_recognition.AudioData"
      ]
     },
     "execution_count": 2,
     "metadata": {},
     "output_type": "execute_result"
    }
   ],
   "source": [
    "r = sr.Recognizer()\n",
    "harvard = sr.AudioFile('harvard.wav')\n",
    "with harvard as source:\n",
    "   audio = r.record(source)\n",
    "type(audio)"
   ]
  },
  {
   "cell_type": "code",
   "execution_count": 3,
   "metadata": {},
   "outputs": [
    {
     "data": {
      "text/plain": [
       "'the stale smell of old beer lingers it takes heat to bring out the odour a cold dip restores health exist a salt pickle taste fine with him pastura my favourite exist for food is the hot cross bun'"
      ]
     },
     "execution_count": 3,
     "metadata": {},
     "output_type": "execute_result"
    }
   ],
   "source": [
    "r.recognize_google(audio)"
   ]
  },
  {
   "cell_type": "code",
   "execution_count": 4,
   "metadata": {},
   "outputs": [
    {
     "data": {
      "text/plain": [
       "{'alternative': [{'transcript': 'smelling fingers', 'confidence': 0.9542653},\n",
       "  {'transcript': 'are smelling fingers'},\n",
       "  {'transcript': 'the smell lingers'},\n",
       "  {'transcript': 'smell lingers'},\n",
       "  {'transcript': 'the smelling fingers'}],\n",
       " 'final': True}"
      ]
     },
     "execution_count": 4,
     "metadata": {},
     "output_type": "execute_result"
    }
   ],
   "source": [
    "jackhammer = sr.AudioFile('jackhammer.wav')\n",
    "with jackhammer as source:\n",
    "    r.adjust_for_ambient_noise(source, duration=.1)\n",
    "    audio = r.record(source)\n",
    "r.recognize_google(audio)\n",
    "r.recognize_google(audio, show_all=True)"
   ]
  },
  {
   "cell_type": "code",
   "execution_count": 5,
   "metadata": {},
   "outputs": [],
   "source": [
    "mic = sr.Microphone()\n",
    "# sr.Microphone.list_microphone_names()\n",
    "# mic = sr.Microphone(device_index=7)"
   ]
  },
  {
   "cell_type": "code",
   "execution_count": 9,
   "metadata": {},
   "outputs": [],
   "source": [
    "with mic as source:\n",
    "    r.adjust_for_ambient_noise(source, duration=1)\n",
    "    audio = r.listen(source)"
   ]
  },
  {
   "cell_type": "code",
   "execution_count": 10,
   "metadata": {},
   "outputs": [
    {
     "data": {
      "text/plain": [
       "'how are you'"
      ]
     },
     "execution_count": 10,
     "metadata": {},
     "output_type": "execute_result"
    }
   ],
   "source": [
    "r.recognize_google(audio)"
   ]
  },
  {
   "cell_type": "code",
   "execution_count": 22,
   "metadata": {},
   "outputs": [
    {
     "name": "stdout",
     "output_type": "stream",
     "text": [
      "I'm ready to help you to choose these:\n",
      "select, draw, show, delete, dimesion, isolate\n",
      "\n",
      "What is your desirable command\n",
      "You said: song\n",
      "song\n",
      "Nope\n",
      "What is your desirable command\n",
      "You said: drove\n",
      "drove\n",
      "Nope\n",
      "What is your desirable command\n",
      "You said: delete\n",
      "delete\n",
      "Yes, it is\n"
     ]
    }
   ],
   "source": [
    "import random\n",
    "import time\n",
    "\n",
    "import speech_recognition as sr\n",
    "\n",
    "\n",
    "def recognize_speech_from_mic(recognizer, microphone):\n",
    "    \"\"\"Transcribe speech from recorded from `microphone`.\n",
    "\n",
    "    Returns a dictionary with three keys:\n",
    "    \"success\": a boolean indicating whether or not the API request was\n",
    "               successful\n",
    "    \"error\":   `None` if no error occured, otherwise a string containing\n",
    "               an error message if the API could not be reached or\n",
    "               speech was unrecognizable\n",
    "    \"transcription\": `None` if speech could not be transcribed,\n",
    "               otherwise a string containing the transcribed text\n",
    "    \"\"\"\n",
    "    # check that recognizer and microphone arguments are appropriate type\n",
    "    if not isinstance(recognizer, sr.Recognizer):\n",
    "        raise TypeError(\"`recognizer` must be `Recognizer` instance\")\n",
    "\n",
    "    if not isinstance(microphone, sr.Microphone):\n",
    "        raise TypeError(\"`microphone` must be `Microphone` instance\")\n",
    "\n",
    "    # adjust the recognizer sensitivity to ambient noise and record audio\n",
    "    # from the microphone\n",
    "    with microphone as source:\n",
    "        recognizer.adjust_for_ambient_noise(source)\n",
    "        audio = recognizer.listen(source)\n",
    "\n",
    "    # set up the response object\n",
    "    response = {\n",
    "        \"success\": True,\n",
    "        \"error\": None,\n",
    "        \"transcription\": None\n",
    "    }\n",
    "\n",
    "    # try recognizing the speech in the recording\n",
    "    # if a RequestError or UnknownValueError exception is caught,\n",
    "    #     update the response object accordingly\n",
    "    try:\n",
    "        response[\"transcription\"] = recognizer.recognize_google(audio)\n",
    "        # response[\"transcription\"] = recognizer.recognize_\n",
    "\n",
    "    except sr.RequestError:\n",
    "        # API was unreachable or unresponsive\n",
    "        response[\"success\"] = False\n",
    "        response[\"error\"] = \"API unavailable\"\n",
    "    except sr.UnknownValueError:\n",
    "        # speech was unintelligible\n",
    "        response[\"error\"] = \"Unable to recognize speech\"\n",
    "\n",
    "    return response\n",
    "\n",
    "\n",
    "if __name__ == \"__main__\":\n",
    "    # set the list of words, maxnumber of guesses, and prompt limit\n",
    "    WORDS = [\"select\", \"draw\", \"show\", \"delete\", \"dimesion\", \"isolate\"]\n",
    "    NUM_GUESSES = 3\n",
    "    PROMPT_LIMIT = 5\n",
    "\n",
    "    # create recognizer and mic instances\n",
    "    recognizer = sr.Recognizer()\n",
    "    microphone = sr.Microphone()\n",
    "\n",
    "    # get a random word from the list\n",
    "    word = random.choice(WORDS)\n",
    "\n",
    "    # format the instructions string\n",
    "    instructions = (\n",
    "        \"I'm ready to help you to choose these:\\n\"\n",
    "        \"{words}\\n\"\n",
    "        # \"You have {n} tries to guess which one.\\n\"\n",
    "    ).format(words=', '.join(WORDS), n=NUM_GUESSES)\n",
    "\n",
    "    # show instructions and wait 3 seconds before starting the game\n",
    "    print(instructions)\n",
    "    time.sleep(3)\n",
    "\n",
    "    for i in range(NUM_GUESSES):\n",
    "        # get the guess from the user\n",
    "        # if a transcription is returned, break out of the loop and\n",
    "        #     continue\n",
    "        # if no transcription returned and API request failed, break\n",
    "        #     loop and continue\n",
    "        # if API request succeeded but no transcription was returned,\n",
    "        #     re-prompt the user to say their guess again. Do this up\n",
    "        #     to PROMPT_LIMIT times\n",
    "        for j in range(PROMPT_LIMIT):\n",
    "            print('What is your desirable command')\n",
    "            guess = recognize_speech_from_mic(recognizer, microphone)\n",
    "            if guess[\"transcription\"]:\n",
    "                break\n",
    "            if not guess[\"success\"]:\n",
    "                break\n",
    "            print(\"I didn't catch that. Could you please repeat your command?\\n\")\n",
    "\n",
    "        # if there was an error, stop the game\n",
    "        if guess[\"error\"]:\n",
    "            print(\"ERROR: {}\".format(guess[\"error\"]))\n",
    "            break\n",
    "\n",
    "        # show the user the transcription\n",
    "        print(\"You said: {}\".format(guess[\"transcription\"]))\n",
    "        print(guess[\"transcription\"])\n",
    "\n",
    "        if guess[\"transcription\"] in WORDS:\n",
    "            print(\"Yes, it is\")\n",
    "        else:\n",
    "            print(\"Nope\")\n",
    "\n",
    "        # if guess[\"transcription\"] WORDS\n",
    "        # print ('IFC command is running')\n",
    "\n",
    "        # # determine if guess is correct and if any attempts remain\n",
    "        # guess_is_correct = guess[\"transcription\"].lower() == word.lower()\n",
    "        # user_has_more_attempts = i < NUM_GUESSES - 1\n",
    "\n",
    "        # # determine if the user has won the game\n",
    "        # # if not, repeat the loop if user has more attempts\n",
    "        # # if no attempts left, the user loses the game\n",
    "        # if guess_is_correct:\n",
    "        #     print(\"Correct! You win!\".format(word))\n",
    "        #     break\n",
    "        # elif user_has_more_attempts:\n",
    "        #     print(\"Incorrect. Try again.\\n\")\n",
    "        # else:\n",
    "        #     print(\"Sorry, you lose!\\nI was thinking of '{}'.\".format(word))\n",
    "        # break"
   ]
  }
 ],
 "metadata": {
  "interpreter": {
   "hash": "bb4cab1424fc7b97453461deaa398a390a9b4501d64a005058aa2ec73c9e9c39"
  },
  "kernelspec": {
   "display_name": "Python 3.9.2 64-bit ('bmcs_env': conda)",
   "language": "python",
   "name": "python3"
  },
  "language_info": {
   "codemirror_mode": {
    "name": "ipython",
    "version": 3
   },
   "file_extension": ".py",
   "mimetype": "text/x-python",
   "name": "python",
   "nbconvert_exporter": "python",
   "pygments_lexer": "ipython3",
   "version": "3.8.5"
  },
  "orig_nbformat": 4
 },
 "nbformat": 4,
 "nbformat_minor": 2
}
